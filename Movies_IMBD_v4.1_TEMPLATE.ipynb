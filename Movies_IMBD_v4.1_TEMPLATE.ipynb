{
 "cells": [
  {
   "cell_type": "code",
   "metadata": {
    "_cell_guid": "b1076dfc-b9ad-4769-8c92-a6c4dae69d19",
    "_uuid": "8f2839f25d086af736a60e9eeb907d3b93b6e0e5",
    "trusted": true,
    "id": "U2D2gTdJVp90",
    "colab_type": "code",
    "colab": {}
   },
   "source": [
    "from math import ceil\n",
    "import pandas as pd\n",
    "from collections import Counter\n",
    "import itertools"
   ],
   "execution_count": 50,
   "outputs": []
  },
  {
   "cell_type": "code",
   "metadata": {
    "_cell_guid": "79c7e3d0-c299-4dcb-8224-4455121ee9b0",
    "_uuid": "d629ff2d2480ee46fbb7e2d37f6b5fab8052498a",
    "trusted": true,
    "id": "oyGfxL3eVp9-",
    "colab_type": "code",
    "colab": {}
   },
   "source": [
    "data = pd.read_csv('movie_bd_v5.csv')\n",
    "data.sample(5)"
   ],
   "execution_count": 51,
   "outputs": [
    {
     "output_type": "execute_result",
     "data": {
      "text/plain": "        imdb_id     budget    revenue  \\\n1836  tt0181865   48000000  207515725   \n130   tt2692250  127000000  349424282   \n1447  tt0206634   76000000   69959751   \n1532  tt0450232   55000000   65664721   \n1745  tt0808279   15000000    7938872   \n\n                               original_title  \\\n1836                                  Traffic   \n130   Night at the Museum: Secret of the Tomb   \n1447                          Children of Men   \n1532                                16 Blocks   \n1745                              Funny Games   \n\n                                                   cast           director  \\\n1836  Michael Douglas|Benicio del Toro|Jacob Vargas|...  Steven Soderbergh   \n130   Ben Stiller|Rami Malek|Rebel Wilson|Robin Will...         Shawn Levy   \n1447  Clive Owen|Michael Caine|Julianne Moore|Charli...    Alfonso CuarÃ³n   \n1532  Bruce Willis|Mos Def|David Morse|Jenna Stern|D...     Richard Donner   \n1745  Naomi Watts|Tim Roth|Michael Pitt|Brady Corbet...     Michael Haneke   \n\n                                                tagline  \\\n1836                             No one gets away clean   \n130                    One Final Night to Save the Day.   \n1447                  The future's a thing of the past.   \n1532  For a New York cop and his witness, the distan...   \n1745                             Let the games begin...   \n\n                                               overview  runtime  \\\n1836  An exploration of the United States of America...      148   \n130   When the magic powers of The Tablet of Ahkmenr...       97   \n1447  In 2027, in a chaotic world in which humans ca...      109   \n1532  An aging cop is assigned the ordinary task of ...      105   \n1745  When Ann, husband George and son Georgie arriv...      112   \n\n                                     genres  \\\n1836                                  Drama   \n130         Adventure|Comedy|Fantasy|Family   \n1447  Drama|Action|Thriller|Science Fiction   \n1532        Action|Adventure|Crime|Thriller   \n1745                  Horror|Thriller|Crime   \n\n                                   production_companies release_date  \\\n1836  USA Films|Initial Entertainment Group (IEG)|Be...   12/27/2000   \n130   Twentieth Century Fox Film Corporation|1492 Pi...   12/17/2014   \n1447  Universal Pictures|Strike Entertainment|Hit & ...    9/22/2006   \n1532  Donners' Company|Cheyenne Enterprises|Alcon En...     3/1/2006   \n1745                 Halcyon Pictures|Kinematograf Wien   10/20/2007   \n\n      vote_average  release_year  \n1836           6.6          2000  \n130            6.1          2014  \n1447           7.3          2006  \n1532           6.1          2006  \n1745           6.2          2007  ",
      "text/html": "<div>\n<style scoped>\n    .dataframe tbody tr th:only-of-type {\n        vertical-align: middle;\n    }\n\n    .dataframe tbody tr th {\n        vertical-align: top;\n    }\n\n    .dataframe thead th {\n        text-align: right;\n    }\n</style>\n<table border=\"1\" class=\"dataframe\">\n  <thead>\n    <tr style=\"text-align: right;\">\n      <th></th>\n      <th>imdb_id</th>\n      <th>budget</th>\n      <th>revenue</th>\n      <th>original_title</th>\n      <th>cast</th>\n      <th>director</th>\n      <th>tagline</th>\n      <th>overview</th>\n      <th>runtime</th>\n      <th>genres</th>\n      <th>production_companies</th>\n      <th>release_date</th>\n      <th>vote_average</th>\n      <th>release_year</th>\n    </tr>\n  </thead>\n  <tbody>\n    <tr>\n      <th>1836</th>\n      <td>tt0181865</td>\n      <td>48000000</td>\n      <td>207515725</td>\n      <td>Traffic</td>\n      <td>Michael Douglas|Benicio del Toro|Jacob Vargas|...</td>\n      <td>Steven Soderbergh</td>\n      <td>No one gets away clean</td>\n      <td>An exploration of the United States of America...</td>\n      <td>148</td>\n      <td>Drama</td>\n      <td>USA Films|Initial Entertainment Group (IEG)|Be...</td>\n      <td>12/27/2000</td>\n      <td>6.6</td>\n      <td>2000</td>\n    </tr>\n    <tr>\n      <th>130</th>\n      <td>tt2692250</td>\n      <td>127000000</td>\n      <td>349424282</td>\n      <td>Night at the Museum: Secret of the Tomb</td>\n      <td>Ben Stiller|Rami Malek|Rebel Wilson|Robin Will...</td>\n      <td>Shawn Levy</td>\n      <td>One Final Night to Save the Day.</td>\n      <td>When the magic powers of The Tablet of Ahkmenr...</td>\n      <td>97</td>\n      <td>Adventure|Comedy|Fantasy|Family</td>\n      <td>Twentieth Century Fox Film Corporation|1492 Pi...</td>\n      <td>12/17/2014</td>\n      <td>6.1</td>\n      <td>2014</td>\n    </tr>\n    <tr>\n      <th>1447</th>\n      <td>tt0206634</td>\n      <td>76000000</td>\n      <td>69959751</td>\n      <td>Children of Men</td>\n      <td>Clive Owen|Michael Caine|Julianne Moore|Charli...</td>\n      <td>Alfonso CuarÃ³n</td>\n      <td>The future's a thing of the past.</td>\n      <td>In 2027, in a chaotic world in which humans ca...</td>\n      <td>109</td>\n      <td>Drama|Action|Thriller|Science Fiction</td>\n      <td>Universal Pictures|Strike Entertainment|Hit &amp; ...</td>\n      <td>9/22/2006</td>\n      <td>7.3</td>\n      <td>2006</td>\n    </tr>\n    <tr>\n      <th>1532</th>\n      <td>tt0450232</td>\n      <td>55000000</td>\n      <td>65664721</td>\n      <td>16 Blocks</td>\n      <td>Bruce Willis|Mos Def|David Morse|Jenna Stern|D...</td>\n      <td>Richard Donner</td>\n      <td>For a New York cop and his witness, the distan...</td>\n      <td>An aging cop is assigned the ordinary task of ...</td>\n      <td>105</td>\n      <td>Action|Adventure|Crime|Thriller</td>\n      <td>Donners' Company|Cheyenne Enterprises|Alcon En...</td>\n      <td>3/1/2006</td>\n      <td>6.1</td>\n      <td>2006</td>\n    </tr>\n    <tr>\n      <th>1745</th>\n      <td>tt0808279</td>\n      <td>15000000</td>\n      <td>7938872</td>\n      <td>Funny Games</td>\n      <td>Naomi Watts|Tim Roth|Michael Pitt|Brady Corbet...</td>\n      <td>Michael Haneke</td>\n      <td>Let the games begin...</td>\n      <td>When Ann, husband George and son Georgie arriv...</td>\n      <td>112</td>\n      <td>Horror|Thriller|Crime</td>\n      <td>Halcyon Pictures|Kinematograf Wien</td>\n      <td>10/20/2007</td>\n      <td>6.2</td>\n      <td>2007</td>\n    </tr>\n  </tbody>\n</table>\n</div>"
     },
     "metadata": {},
     "execution_count": 51
    }
   ]
  },
  {
   "cell_type": "code",
   "metadata": {
    "trusted": true,
    "id": "CoYUnagMVp-C",
    "colab_type": "code",
    "colab": {}
   },
   "source": [
    "data.describe()"
   ],
   "execution_count": 52,
   "outputs": [
    {
     "output_type": "execute_result",
     "data": {
      "text/plain": "             budget       revenue      runtime  vote_average  release_year\ncount  1.889000e+03  1.889000e+03  1889.000000   1889.000000   1889.000000\nmean   5.431083e+07  1.553653e+08   109.658549      6.140762   2007.860773\nstd    4.858721e+07  2.146698e+08    18.017041      0.764763      4.468841\nmin    5.000000e+06  2.033165e+06    63.000000      3.300000   2000.000000\n25%    2.000000e+07  3.456058e+07    97.000000      5.600000   2004.000000\n50%    3.800000e+07  8.361541e+07   107.000000      6.100000   2008.000000\n75%    7.200000e+07  1.782626e+08   120.000000      6.600000   2012.000000\nmax    3.800000e+08  2.781506e+09   214.000000      8.100000   2015.000000",
      "text/html": "<div>\n<style scoped>\n    .dataframe tbody tr th:only-of-type {\n        vertical-align: middle;\n    }\n\n    .dataframe tbody tr th {\n        vertical-align: top;\n    }\n\n    .dataframe thead th {\n        text-align: right;\n    }\n</style>\n<table border=\"1\" class=\"dataframe\">\n  <thead>\n    <tr style=\"text-align: right;\">\n      <th></th>\n      <th>budget</th>\n      <th>revenue</th>\n      <th>runtime</th>\n      <th>vote_average</th>\n      <th>release_year</th>\n    </tr>\n  </thead>\n  <tbody>\n    <tr>\n      <th>count</th>\n      <td>1.889000e+03</td>\n      <td>1.889000e+03</td>\n      <td>1889.000000</td>\n      <td>1889.000000</td>\n      <td>1889.000000</td>\n    </tr>\n    <tr>\n      <th>mean</th>\n      <td>5.431083e+07</td>\n      <td>1.553653e+08</td>\n      <td>109.658549</td>\n      <td>6.140762</td>\n      <td>2007.860773</td>\n    </tr>\n    <tr>\n      <th>std</th>\n      <td>4.858721e+07</td>\n      <td>2.146698e+08</td>\n      <td>18.017041</td>\n      <td>0.764763</td>\n      <td>4.468841</td>\n    </tr>\n    <tr>\n      <th>min</th>\n      <td>5.000000e+06</td>\n      <td>2.033165e+06</td>\n      <td>63.000000</td>\n      <td>3.300000</td>\n      <td>2000.000000</td>\n    </tr>\n    <tr>\n      <th>25%</th>\n      <td>2.000000e+07</td>\n      <td>3.456058e+07</td>\n      <td>97.000000</td>\n      <td>5.600000</td>\n      <td>2004.000000</td>\n    </tr>\n    <tr>\n      <th>50%</th>\n      <td>3.800000e+07</td>\n      <td>8.361541e+07</td>\n      <td>107.000000</td>\n      <td>6.100000</td>\n      <td>2008.000000</td>\n    </tr>\n    <tr>\n      <th>75%</th>\n      <td>7.200000e+07</td>\n      <td>1.782626e+08</td>\n      <td>120.000000</td>\n      <td>6.600000</td>\n      <td>2012.000000</td>\n    </tr>\n    <tr>\n      <th>max</th>\n      <td>3.800000e+08</td>\n      <td>2.781506e+09</td>\n      <td>214.000000</td>\n      <td>8.100000</td>\n      <td>2015.000000</td>\n    </tr>\n  </tbody>\n</table>\n</div>"
     },
     "metadata": {},
     "execution_count": 52
    }
   ]
  },
  {
   "cell_type": "markdown",
   "metadata": {
    "id": "DTIt7ezGVp-G",
    "colab_type": "text"
   },
   "source": [
    "# Предобработка"
   ]
  },
  {
   "cell_type": "code",
   "metadata": {
    "trusted": true,
    "id": "jNb40DwKVp-H",
    "colab_type": "code",
    "colab": {}
   },
   "source": [
    "profit = data.revenue - data.budget\n",
    "data['Profit'] = profit\n",
    "answers = {} # создадим словарь для ответов\n",
    "data['timestamp'] = pd.to_datetime(data['release_date'])\n",
    "\n",
    "def splitted(column):\n",
    "    values = [value if '|' not in value else value.split('|') for value in column]\n",
    "    return list(pd.core.common.flatten(values))"
   ],
   "execution_count": 53,
   "outputs": []
  },
  {
   "cell_type": "markdown",
   "metadata": {
    "id": "YxZaH-nPVp-L",
    "colab_type": "text"
   },
   "source": [
    "# 1. У какого фильма из списка самый большой бюджет?"
   ]
  },
  {
   "cell_type": "markdown",
   "metadata": {
    "id": "Nd-G5gX6Vp-M",
    "colab_type": "text"
   },
   "source": [
    "Использовать варианты ответов в коде решения запрещено.    \n",
    "Вы думаете и в жизни у вас будут варианты ответов?)"
   ]
  },
  {
   "cell_type": "code",
   "metadata": {
    "trusted": true,
    "id": "uVnXAY5RVp-O",
    "colab_type": "code",
    "colab": {}
   },
   "source": [
    "# в словарь вставляем номер вопроса и ваш ответ на него\n",
    "# Пример: \n",
    "answers['1'] = '2. Spider-Man 3 (tt0413300)'\n",
    "# запишите свой вариант ответа\n",
    "answers['1'] = '723. Pirates of the Caribbean: On Stranger Tides (tt1298650)'\n",
    "# если ответили верно, можете добавить комментарий со значком \"+\""
   ],
   "execution_count": 54,
   "outputs": []
  },
  {
   "cell_type": "code",
   "metadata": {
    "trusted": true,
    "id": "dZwb3m28Vp-S",
    "colab_type": "code",
    "colab": {}
   },
   "source": [
    "# тут пишем ваш код для решения данного вопроса:\n",
    "answer1 = data[data.budget == data.budget.max()]\n",
    "display(answer1)"
   ],
   "execution_count": 55,
   "outputs": [
    {
     "output_type": "display_data",
     "data": {
      "text/plain": "       imdb_id     budget     revenue  \\\n723  tt1298650  380000000  1021683000   \n\n                                  original_title  \\\n723  Pirates of the Caribbean: On Stranger Tides   \n\n                                                  cast      director  \\\n723  Johnny Depp|PenÃ©lope Cruz|Geoffrey Rush|Ian M...  Rob Marshall   \n\n                         tagline  \\\n723  Live Forever Or Die Trying.   \n\n                                              overview  runtime  \\\n723  Captain Jack Sparrow crosses paths with a woma...      136   \n\n                       genres  \\\n723  Adventure|Action|Fantasy   \n\n                                  production_companies release_date  \\\n723  Walt Disney Pictures|Jerry Bruckheimer Films|M...    5/11/2011   \n\n     vote_average  release_year     Profit  timestamp  \n723           6.3          2011  641683000 2011-05-11  ",
      "text/html": "<div>\n<style scoped>\n    .dataframe tbody tr th:only-of-type {\n        vertical-align: middle;\n    }\n\n    .dataframe tbody tr th {\n        vertical-align: top;\n    }\n\n    .dataframe thead th {\n        text-align: right;\n    }\n</style>\n<table border=\"1\" class=\"dataframe\">\n  <thead>\n    <tr style=\"text-align: right;\">\n      <th></th>\n      <th>imdb_id</th>\n      <th>budget</th>\n      <th>revenue</th>\n      <th>original_title</th>\n      <th>cast</th>\n      <th>director</th>\n      <th>tagline</th>\n      <th>overview</th>\n      <th>runtime</th>\n      <th>genres</th>\n      <th>production_companies</th>\n      <th>release_date</th>\n      <th>vote_average</th>\n      <th>release_year</th>\n      <th>Profit</th>\n      <th>timestamp</th>\n    </tr>\n  </thead>\n  <tbody>\n    <tr>\n      <th>723</th>\n      <td>tt1298650</td>\n      <td>380000000</td>\n      <td>1021683000</td>\n      <td>Pirates of the Caribbean: On Stranger Tides</td>\n      <td>Johnny Depp|PenÃ©lope Cruz|Geoffrey Rush|Ian M...</td>\n      <td>Rob Marshall</td>\n      <td>Live Forever Or Die Trying.</td>\n      <td>Captain Jack Sparrow crosses paths with a woma...</td>\n      <td>136</td>\n      <td>Adventure|Action|Fantasy</td>\n      <td>Walt Disney Pictures|Jerry Bruckheimer Films|M...</td>\n      <td>5/11/2011</td>\n      <td>6.3</td>\n      <td>2011</td>\n      <td>641683000</td>\n      <td>2011-05-11</td>\n    </tr>\n  </tbody>\n</table>\n</div>"
     },
     "metadata": {}
    }
   ]
  },
  {
   "cell_type": "markdown",
   "metadata": {
    "id": "K7L3nbRXVp-X",
    "colab_type": "text"
   },
   "source": [
    "ВАРИАНТ 2"
   ]
  },
  {
   "cell_type": "code",
   "metadata": {
    "trusted": true,
    "id": "OGaoQI7rVp-X",
    "colab_type": "code",
    "colab": {}
   },
   "source": [
    "# можно добавлять разные варианты решения"
   ],
   "execution_count": 56,
   "outputs": []
  },
  {
   "cell_type": "markdown",
   "metadata": {
    "id": "FNRbbI3vVp-c",
    "colab_type": "text"
   },
   "source": [
    "# 2. Какой из фильмов самый длительный (в минутах)?"
   ]
  },
  {
   "cell_type": "code",
   "metadata": {
    "trusted": true,
    "id": "vHAoEXNTVp-d",
    "colab_type": "code",
    "colab": {}
   },
   "source": [
    "# думаю логику работы с этим словарем вы уже поняли, \n",
    "# по этому не буду больше его дублировать\n",
    "answers['2'] = '1157. Gods and Generals (tt0279111)'"
   ],
   "execution_count": 57,
   "outputs": []
  },
  {
   "cell_type": "code",
   "metadata": {
    "trusted": true,
    "id": "ot-VX2XrVp-g",
    "colab_type": "code",
    "colab": {}
   },
   "source": [
    "answer2 = data[data.runtime == data.runtime.max()]\n",
    "display(answer2)"
   ],
   "execution_count": 58,
   "outputs": [
    {
     "output_type": "display_data",
     "data": {
      "text/plain": "        imdb_id    budget   revenue     original_title  \\\n1157  tt0279111  56000000  12923936  Gods and Generals   \n\n                                                   cast           director  \\\n1157  Stephen Lang|Jeff Daniels|Robert Duvall|Kevin ...  Ronald F. Maxwell   \n\n                                  tagline  \\\n1157  The nations heart was touched by...   \n\n                                               overview  runtime  \\\n1157  The film centers mostly around the personal an...      214   \n\n                 genres                production_companies release_date  \\\n1157  Drama|History|War  Turner Pictures|Antietam Filmworks    2/21/2003   \n\n      vote_average  release_year    Profit  timestamp  \n1157           5.8          2003 -43076064 2003-02-21  ",
      "text/html": "<div>\n<style scoped>\n    .dataframe tbody tr th:only-of-type {\n        vertical-align: middle;\n    }\n\n    .dataframe tbody tr th {\n        vertical-align: top;\n    }\n\n    .dataframe thead th {\n        text-align: right;\n    }\n</style>\n<table border=\"1\" class=\"dataframe\">\n  <thead>\n    <tr style=\"text-align: right;\">\n      <th></th>\n      <th>imdb_id</th>\n      <th>budget</th>\n      <th>revenue</th>\n      <th>original_title</th>\n      <th>cast</th>\n      <th>director</th>\n      <th>tagline</th>\n      <th>overview</th>\n      <th>runtime</th>\n      <th>genres</th>\n      <th>production_companies</th>\n      <th>release_date</th>\n      <th>vote_average</th>\n      <th>release_year</th>\n      <th>Profit</th>\n      <th>timestamp</th>\n    </tr>\n  </thead>\n  <tbody>\n    <tr>\n      <th>1157</th>\n      <td>tt0279111</td>\n      <td>56000000</td>\n      <td>12923936</td>\n      <td>Gods and Generals</td>\n      <td>Stephen Lang|Jeff Daniels|Robert Duvall|Kevin ...</td>\n      <td>Ronald F. Maxwell</td>\n      <td>The nations heart was touched by...</td>\n      <td>The film centers mostly around the personal an...</td>\n      <td>214</td>\n      <td>Drama|History|War</td>\n      <td>Turner Pictures|Antietam Filmworks</td>\n      <td>2/21/2003</td>\n      <td>5.8</td>\n      <td>2003</td>\n      <td>-43076064</td>\n      <td>2003-02-21</td>\n    </tr>\n  </tbody>\n</table>\n</div>"
     },
     "metadata": {}
    }
   ]
  },
  {
   "cell_type": "markdown",
   "metadata": {
    "id": "bapLlpW8Vp-k",
    "colab_type": "text"
   },
   "source": [
    "# 3. Какой из фильмов самый короткий (в минутах)?"
   ]
  },
  {
   "cell_type": "code",
   "metadata": {
    "trusted": true,
    "id": "YBxaSHuAVp-l",
    "colab_type": "code",
    "colab": {}
   },
   "source": [
    "answers['3'] = '768. Winnie the Pooh (tt1449283)'\n",
    "\n",
    "answer3 = data[data.runtime == data.runtime.min()]\n",
    "display(answer3)\n"
   ],
   "execution_count": 59,
   "outputs": [
    {
     "output_type": "display_data",
     "data": {
      "text/plain": "       imdb_id    budget   revenue   original_title  \\\n768  tt1449283  30000000  14460000  Winnie the Pooh   \n\n                                                  cast  \\\n768  Jim Cummings|Travis Oates|Jim Cummings|Bud Luc...   \n\n                      director   tagline  \\\n768  Stephen Anderson|Don Hall  Oh Pooh.   \n\n                                              overview  runtime  \\\n768  During an ordinary day in Hundred Acre Wood, W...       63   \n\n               genres                               production_companies  \\\n768  Animation|Family  Walt Disney Pictures|Walt Disney Animation Stu...   \n\n    release_date  vote_average  release_year    Profit  timestamp  \n768    4/13/2011           6.8          2011 -15540000 2011-04-13  ",
      "text/html": "<div>\n<style scoped>\n    .dataframe tbody tr th:only-of-type {\n        vertical-align: middle;\n    }\n\n    .dataframe tbody tr th {\n        vertical-align: top;\n    }\n\n    .dataframe thead th {\n        text-align: right;\n    }\n</style>\n<table border=\"1\" class=\"dataframe\">\n  <thead>\n    <tr style=\"text-align: right;\">\n      <th></th>\n      <th>imdb_id</th>\n      <th>budget</th>\n      <th>revenue</th>\n      <th>original_title</th>\n      <th>cast</th>\n      <th>director</th>\n      <th>tagline</th>\n      <th>overview</th>\n      <th>runtime</th>\n      <th>genres</th>\n      <th>production_companies</th>\n      <th>release_date</th>\n      <th>vote_average</th>\n      <th>release_year</th>\n      <th>Profit</th>\n      <th>timestamp</th>\n    </tr>\n  </thead>\n  <tbody>\n    <tr>\n      <th>768</th>\n      <td>tt1449283</td>\n      <td>30000000</td>\n      <td>14460000</td>\n      <td>Winnie the Pooh</td>\n      <td>Jim Cummings|Travis Oates|Jim Cummings|Bud Luc...</td>\n      <td>Stephen Anderson|Don Hall</td>\n      <td>Oh Pooh.</td>\n      <td>During an ordinary day in Hundred Acre Wood, W...</td>\n      <td>63</td>\n      <td>Animation|Family</td>\n      <td>Walt Disney Pictures|Walt Disney Animation Stu...</td>\n      <td>4/13/2011</td>\n      <td>6.8</td>\n      <td>2011</td>\n      <td>-15540000</td>\n      <td>2011-04-13</td>\n    </tr>\n  </tbody>\n</table>\n</div>"
     },
     "metadata": {}
    }
   ]
  },
  {
   "cell_type": "markdown",
   "metadata": {
    "id": "TfQbxbfNVp-p",
    "colab_type": "text"
   },
   "source": [
    "# 4. Какова средняя длительность фильмов?\n"
   ]
  },
  {
   "cell_type": "code",
   "metadata": {
    "trusted": true,
    "id": "5K6dKZYVVp-q",
    "colab_type": "code",
    "colab": {}
   },
   "source": [
    "answers['4'] = 110\n",
    "\n",
    "answer4 = data.runtime.mean()\n",
    "display(ceil(answer4))\n"
   ],
   "execution_count": 60,
   "outputs": [
    {
     "output_type": "display_data",
     "data": {
      "text/plain": "110"
     },
     "metadata": {}
    }
   ]
  },
  {
   "cell_type": "markdown",
   "metadata": {
    "id": "r5TvbnT_Vp-u",
    "colab_type": "text"
   },
   "source": [
    "# 5. Каково медианное значение длительности фильмов? "
   ]
  },
  {
   "cell_type": "code",
   "metadata": {
    "trusted": true,
    "id": "iBROplKnVp-v",
    "colab_type": "code",
    "colab": {}
   },
   "source": [
    "answers['5'] = 107\n",
    "\n",
    "answer5 = data.runtime.median()\n",
    "display(ceil(answer5))\n"
   ],
   "execution_count": 61,
   "outputs": [
    {
     "output_type": "display_data",
     "data": {
      "text/plain": "107"
     },
     "metadata": {}
    }
   ]
  },
  {
   "cell_type": "markdown",
   "metadata": {
    "id": "39P-deDSVp-y",
    "colab_type": "text"
   },
   "source": [
    "# 6. Какой самый прибыльный фильм?\n",
    "#### Внимание! Здесь и далее под «прибылью» или «убытками» понимается разность между сборами и бюджетом фильма. (прибыль = сборы - бюджет) в нашем датасете это будет (profit = revenue - budget) "
   ]
  },
  {
   "cell_type": "code",
   "metadata": {
    "trusted": true,
    "id": "UYZh4T9WVp-y",
    "colab_type": "code",
    "colab": {}
   },
   "source": [
    "answers['6'] = '239. Avatar (tt0499549)'\n",
    "\n",
    "top_profit = data[data.Profit == data.Profit.max()]\n",
    "display(top_profit)"
   ],
   "execution_count": 62,
   "outputs": [
    {
     "output_type": "display_data",
     "data": {
      "text/plain": "       imdb_id     budget     revenue original_title  \\\n239  tt0499549  237000000  2781505847         Avatar   \n\n                                                  cast       director  \\\n239  Sam Worthington|Zoe Saldana|Sigourney Weaver|S...  James Cameron   \n\n                         tagline  \\\n239  Enter the World of Pandora.   \n\n                                              overview  runtime  \\\n239  In the 22nd century, a paraplegic Marine is di...      162   \n\n                                       genres  \\\n239  Action|Adventure|Fantasy|Science Fiction   \n\n                                  production_companies release_date  \\\n239  Ingenious Film Partners|Twentieth Century Fox ...   12/10/2009   \n\n     vote_average  release_year      Profit  timestamp  \n239           7.1          2009  2544505847 2009-12-10  ",
      "text/html": "<div>\n<style scoped>\n    .dataframe tbody tr th:only-of-type {\n        vertical-align: middle;\n    }\n\n    .dataframe tbody tr th {\n        vertical-align: top;\n    }\n\n    .dataframe thead th {\n        text-align: right;\n    }\n</style>\n<table border=\"1\" class=\"dataframe\">\n  <thead>\n    <tr style=\"text-align: right;\">\n      <th></th>\n      <th>imdb_id</th>\n      <th>budget</th>\n      <th>revenue</th>\n      <th>original_title</th>\n      <th>cast</th>\n      <th>director</th>\n      <th>tagline</th>\n      <th>overview</th>\n      <th>runtime</th>\n      <th>genres</th>\n      <th>production_companies</th>\n      <th>release_date</th>\n      <th>vote_average</th>\n      <th>release_year</th>\n      <th>Profit</th>\n      <th>timestamp</th>\n    </tr>\n  </thead>\n  <tbody>\n    <tr>\n      <th>239</th>\n      <td>tt0499549</td>\n      <td>237000000</td>\n      <td>2781505847</td>\n      <td>Avatar</td>\n      <td>Sam Worthington|Zoe Saldana|Sigourney Weaver|S...</td>\n      <td>James Cameron</td>\n      <td>Enter the World of Pandora.</td>\n      <td>In the 22nd century, a paraplegic Marine is di...</td>\n      <td>162</td>\n      <td>Action|Adventure|Fantasy|Science Fiction</td>\n      <td>Ingenious Film Partners|Twentieth Century Fox ...</td>\n      <td>12/10/2009</td>\n      <td>7.1</td>\n      <td>2009</td>\n      <td>2544505847</td>\n      <td>2009-12-10</td>\n    </tr>\n  </tbody>\n</table>\n</div>"
     },
     "metadata": {}
    }
   ]
  },
  {
   "cell_type": "markdown",
   "metadata": {
    "id": "M99JmIX4Vp-2",
    "colab_type": "text"
   },
   "source": [
    "# 7. Какой фильм самый убыточный? "
   ]
  },
  {
   "cell_type": "code",
   "metadata": {
    "trusted": true,
    "id": "w-D2m4XPVp-3",
    "colab_type": "code",
    "colab": {}
   },
   "source": [
    "answers['7'] = '1245. The Lone Ranger (tt1210819)'\n",
    "\n",
    "the_worst_profit = data[data.Profit == data.Profit.min()]\n",
    "display(the_worst_profit)\n"
   ],
   "execution_count": 63,
   "outputs": [
    {
     "output_type": "display_data",
     "data": {
      "text/plain": "        imdb_id     budget   revenue   original_title  \\\n1245  tt1210819  255000000  89289910  The Lone Ranger   \n\n                                                   cast        director  \\\n1245  Johnny Depp|Armie Hammer|William Fichtner|Hele...  Gore Verbinski   \n\n                      tagline  \\\n1245  Never Take Off the Mask   \n\n                                               overview  runtime  \\\n1245  The Texas Rangers chase down a gang of outlaws...      149   \n\n                        genres  \\\n1245  Action|Adventure|Western   \n\n                                   production_companies release_date  \\\n1245  Walt Disney Pictures|Jerry Bruckheimer Films|I...     7/3/2013   \n\n      vote_average  release_year     Profit  timestamp  \n1245           6.0          2013 -165710090 2013-07-03  ",
      "text/html": "<div>\n<style scoped>\n    .dataframe tbody tr th:only-of-type {\n        vertical-align: middle;\n    }\n\n    .dataframe tbody tr th {\n        vertical-align: top;\n    }\n\n    .dataframe thead th {\n        text-align: right;\n    }\n</style>\n<table border=\"1\" class=\"dataframe\">\n  <thead>\n    <tr style=\"text-align: right;\">\n      <th></th>\n      <th>imdb_id</th>\n      <th>budget</th>\n      <th>revenue</th>\n      <th>original_title</th>\n      <th>cast</th>\n      <th>director</th>\n      <th>tagline</th>\n      <th>overview</th>\n      <th>runtime</th>\n      <th>genres</th>\n      <th>production_companies</th>\n      <th>release_date</th>\n      <th>vote_average</th>\n      <th>release_year</th>\n      <th>Profit</th>\n      <th>timestamp</th>\n    </tr>\n  </thead>\n  <tbody>\n    <tr>\n      <th>1245</th>\n      <td>tt1210819</td>\n      <td>255000000</td>\n      <td>89289910</td>\n      <td>The Lone Ranger</td>\n      <td>Johnny Depp|Armie Hammer|William Fichtner|Hele...</td>\n      <td>Gore Verbinski</td>\n      <td>Never Take Off the Mask</td>\n      <td>The Texas Rangers chase down a gang of outlaws...</td>\n      <td>149</td>\n      <td>Action|Adventure|Western</td>\n      <td>Walt Disney Pictures|Jerry Bruckheimer Films|I...</td>\n      <td>7/3/2013</td>\n      <td>6.0</td>\n      <td>2013</td>\n      <td>-165710090</td>\n      <td>2013-07-03</td>\n    </tr>\n  </tbody>\n</table>\n</div>"
     },
     "metadata": {}
    }
   ]
  },
  {
   "cell_type": "markdown",
   "metadata": {
    "id": "wEOM5ERVVp-6",
    "colab_type": "text"
   },
   "source": [
    "# 8. У скольких фильмов из датасета объем сборов оказался выше бюджета?"
   ]
  },
  {
   "cell_type": "code",
   "metadata": {
    "trusted": true,
    "id": "y00_7HD6Vp-7",
    "colab_type": "code",
    "colab": {},
    "tags": []
   },
   "source": [
    "answers['8'] = 1478\n",
    "\n",
    "answer8 = data[data.Profit > 0].info()\n",
    "display(answer8)"
   ],
   "execution_count": 64,
   "outputs": [
    {
     "output_type": "stream",
     "name": "stdout",
     "text": "<class 'pandas.core.frame.DataFrame'>\nInt64Index: 1478 entries, 0 to 1884\nData columns (total 16 columns):\n #   Column                Non-Null Count  Dtype         \n---  ------                --------------  -----         \n 0   imdb_id               1478 non-null   object        \n 1   budget                1478 non-null   int64         \n 2   revenue               1478 non-null   int64         \n 3   original_title        1478 non-null   object        \n 4   cast                  1478 non-null   object        \n 5   director              1478 non-null   object        \n 6   tagline               1478 non-null   object        \n 7   overview              1478 non-null   object        \n 8   runtime               1478 non-null   int64         \n 9   genres                1478 non-null   object        \n 10  production_companies  1478 non-null   object        \n 11  release_date          1478 non-null   object        \n 12  vote_average          1478 non-null   float64       \n 13  release_year          1478 non-null   int64         \n 14  Profit                1478 non-null   int64         \n 15  timestamp             1478 non-null   datetime64[ns]\ndtypes: datetime64[ns](1), float64(1), int64(5), object(9)\nmemory usage: 196.3+ KB\n"
    },
    {
     "output_type": "display_data",
     "data": {
      "text/plain": "None"
     },
     "metadata": {}
    }
   ]
  },
  {
   "cell_type": "markdown",
   "metadata": {
    "id": "xhpspA9KVp_A",
    "colab_type": "text"
   },
   "source": [
    "# 9. Какой фильм оказался самым кассовым в 2008 году?"
   ]
  },
  {
   "cell_type": "code",
   "metadata": {
    "trusted": true,
    "id": "MoUyQr9RVp_B",
    "colab_type": "code",
    "colab": {}
   },
   "source": [
    "answers['9'] = '599. The Dark Knight (tt0468569)'\n",
    "\n",
    "the_best_film2008 = data[data.release_year == 2008].sort_values('revenue', ascending=False).head(1)\n",
    "\n",
    "display(the_best_film2008)"
   ],
   "execution_count": 65,
   "outputs": [
    {
     "output_type": "display_data",
     "data": {
      "text/plain": "       imdb_id     budget     revenue   original_title  \\\n599  tt0468569  185000000  1001921825  The Dark Knight   \n\n                                                  cast           director  \\\n599  Christian Bale|Michael Caine|Heath Ledger|Aaro...  Christopher Nolan   \n\n             tagline                                           overview  \\\n599  Why So Serious?  Batman raises the stakes in his war on crime. ...   \n\n     runtime                       genres  \\\n599      152  Drama|Action|Crime|Thriller   \n\n                                  production_companies release_date  \\\n599  DC Comics|Legendary Pictures|Warner Bros.|Syncopy    7/16/2008   \n\n     vote_average  release_year     Profit  timestamp  \n599           8.1          2008  816921825 2008-07-16  ",
      "text/html": "<div>\n<style scoped>\n    .dataframe tbody tr th:only-of-type {\n        vertical-align: middle;\n    }\n\n    .dataframe tbody tr th {\n        vertical-align: top;\n    }\n\n    .dataframe thead th {\n        text-align: right;\n    }\n</style>\n<table border=\"1\" class=\"dataframe\">\n  <thead>\n    <tr style=\"text-align: right;\">\n      <th></th>\n      <th>imdb_id</th>\n      <th>budget</th>\n      <th>revenue</th>\n      <th>original_title</th>\n      <th>cast</th>\n      <th>director</th>\n      <th>tagline</th>\n      <th>overview</th>\n      <th>runtime</th>\n      <th>genres</th>\n      <th>production_companies</th>\n      <th>release_date</th>\n      <th>vote_average</th>\n      <th>release_year</th>\n      <th>Profit</th>\n      <th>timestamp</th>\n    </tr>\n  </thead>\n  <tbody>\n    <tr>\n      <th>599</th>\n      <td>tt0468569</td>\n      <td>185000000</td>\n      <td>1001921825</td>\n      <td>The Dark Knight</td>\n      <td>Christian Bale|Michael Caine|Heath Ledger|Aaro...</td>\n      <td>Christopher Nolan</td>\n      <td>Why So Serious?</td>\n      <td>Batman raises the stakes in his war on crime. ...</td>\n      <td>152</td>\n      <td>Drama|Action|Crime|Thriller</td>\n      <td>DC Comics|Legendary Pictures|Warner Bros.|Syncopy</td>\n      <td>7/16/2008</td>\n      <td>8.1</td>\n      <td>2008</td>\n      <td>816921825</td>\n      <td>2008-07-16</td>\n    </tr>\n  </tbody>\n</table>\n</div>"
     },
     "metadata": {}
    }
   ]
  },
  {
   "cell_type": "markdown",
   "metadata": {
    "id": "Zi4hDKidVp_F",
    "colab_type": "text"
   },
   "source": [
    "# 10. Самый убыточный фильм за период с 2012 по 2014 г. (включительно)?\n"
   ]
  },
  {
   "cell_type": "code",
   "metadata": {
    "trusted": true,
    "id": "XqyRmufJVp_F",
    "colab_type": "code",
    "colab": {}
   },
   "source": [
    "answers['10'] = '1245. The Lone Ranger (tt1210819)'\n",
    "\n",
    "the_worst_2012_2014 = data[(2012 <= data.release_year) & (data.release_year <=2014)].sort_values('Profit').head(1)\n",
    "\n",
    "display(the_worst_2012_2014)"
   ],
   "execution_count": 66,
   "outputs": [
    {
     "output_type": "display_data",
     "data": {
      "text/plain": "        imdb_id     budget   revenue   original_title  \\\n1245  tt1210819  255000000  89289910  The Lone Ranger   \n\n                                                   cast        director  \\\n1245  Johnny Depp|Armie Hammer|William Fichtner|Hele...  Gore Verbinski   \n\n                      tagline  \\\n1245  Never Take Off the Mask   \n\n                                               overview  runtime  \\\n1245  The Texas Rangers chase down a gang of outlaws...      149   \n\n                        genres  \\\n1245  Action|Adventure|Western   \n\n                                   production_companies release_date  \\\n1245  Walt Disney Pictures|Jerry Bruckheimer Films|I...     7/3/2013   \n\n      vote_average  release_year     Profit  timestamp  \n1245           6.0          2013 -165710090 2013-07-03  ",
      "text/html": "<div>\n<style scoped>\n    .dataframe tbody tr th:only-of-type {\n        vertical-align: middle;\n    }\n\n    .dataframe tbody tr th {\n        vertical-align: top;\n    }\n\n    .dataframe thead th {\n        text-align: right;\n    }\n</style>\n<table border=\"1\" class=\"dataframe\">\n  <thead>\n    <tr style=\"text-align: right;\">\n      <th></th>\n      <th>imdb_id</th>\n      <th>budget</th>\n      <th>revenue</th>\n      <th>original_title</th>\n      <th>cast</th>\n      <th>director</th>\n      <th>tagline</th>\n      <th>overview</th>\n      <th>runtime</th>\n      <th>genres</th>\n      <th>production_companies</th>\n      <th>release_date</th>\n      <th>vote_average</th>\n      <th>release_year</th>\n      <th>Profit</th>\n      <th>timestamp</th>\n    </tr>\n  </thead>\n  <tbody>\n    <tr>\n      <th>1245</th>\n      <td>tt1210819</td>\n      <td>255000000</td>\n      <td>89289910</td>\n      <td>The Lone Ranger</td>\n      <td>Johnny Depp|Armie Hammer|William Fichtner|Hele...</td>\n      <td>Gore Verbinski</td>\n      <td>Never Take Off the Mask</td>\n      <td>The Texas Rangers chase down a gang of outlaws...</td>\n      <td>149</td>\n      <td>Action|Adventure|Western</td>\n      <td>Walt Disney Pictures|Jerry Bruckheimer Films|I...</td>\n      <td>7/3/2013</td>\n      <td>6.0</td>\n      <td>2013</td>\n      <td>-165710090</td>\n      <td>2013-07-03</td>\n    </tr>\n  </tbody>\n</table>\n</div>"
     },
     "metadata": {}
    }
   ]
  },
  {
   "cell_type": "markdown",
   "metadata": {
    "id": "EA7Sa9dkVp_I",
    "colab_type": "text"
   },
   "source": [
    "# 11. Какого жанра фильмов больше всего?"
   ]
  },
  {
   "cell_type": "code",
   "metadata": {
    "trusted": true,
    "id": "zsJAwJ8QVp_J",
    "colab_type": "code",
    "colab": {},
    "tags": []
   },
   "source": [
    "answers['11'] = 'Drama'\n",
    "\n",
    "counted_genres = Counter(splitted(data.genres))\n",
    "\n",
    "\n",
    "display(counted_genres.most_common(1))"
   ],
   "execution_count": 67,
   "outputs": [
    {
     "output_type": "display_data",
     "data": {
      "text/plain": "[('Drama', 782)]"
     },
     "metadata": {}
    }
   ]
  },
  {
   "cell_type": "markdown",
   "metadata": {
    "id": "Ax6g2C8SVp_M",
    "colab_type": "text"
   },
   "source": [
    "ВАРИАНТ 2"
   ]
  },
  {
   "cell_type": "code",
   "metadata": {
    "trusted": true,
    "id": "otO3SbrSVp_N",
    "colab_type": "code",
    "colab": {}
   },
   "source": [
    "\n",
    "genres = itertools.chain.from_iterable(genre.split('|') for genre in data.genres)\n",
    "\n",
    "pd.Series(genres).value_counts()"
   ],
   "execution_count": 68,
   "outputs": [
    {
     "output_type": "execute_result",
     "data": {
      "text/plain": "Drama              782\nComedy             683\nThriller           596\nAction             582\nAdventure          415\nCrime              315\nRomance            308\nFamily             260\nScience Fiction    248\nFantasy            222\nHorror             176\nMystery            168\nAnimation          139\nMusic               64\nHistory             62\nWar                 58\nWestern             19\nDocumentary          8\nForeign              2\ndtype: int64"
     },
     "metadata": {},
     "execution_count": 68
    }
   ]
  },
  {
   "cell_type": "markdown",
   "metadata": {
    "id": "T9_bPWpkVp_Q",
    "colab_type": "text"
   },
   "source": [
    "# 12. Фильмы какого жанра чаще всего становятся прибыльными? "
   ]
  },
  {
   "cell_type": "code",
   "metadata": {
    "trusted": true,
    "id": "Tmt8MaK1Vp_R",
    "colab_type": "code",
    "colab": {}
   },
   "source": [
    "answers['12'] = 'Drama'\n",
    "\n",
    "profit_genres = data[data.Profit > 0]['genres']\n",
    "counted_profit_genres = Counter(splitted(profit_genres))\n",
    "\n",
    "display(counted_profit_genres.most_common(1))"
   ],
   "execution_count": 69,
   "outputs": [
    {
     "output_type": "display_data",
     "data": {
      "text/plain": "[('Drama', 560)]"
     },
     "metadata": {}
    }
   ]
  },
  {
   "cell_type": "markdown",
   "metadata": {
    "id": "0F23bgsDVp_U",
    "colab_type": "text"
   },
   "source": [
    "# 13. У какого режиссера самые большие суммарные кассовые сбооры?"
   ]
  },
  {
   "cell_type": "code",
   "metadata": {
    "trusted": true,
    "id": "K6Z3J8ygVp_X",
    "colab_type": "code",
    "colab": {}
   },
   "source": [
    "answers['13'] = 'Peter Jackson'\n",
    "\n",
    "the_most_profitable_director = data.groupby('director').sum().sort_values('Profit', ascending=False).head(1)\n",
    "\n",
    "display(the_most_profitable_director)"
   ],
   "execution_count": 70,
   "outputs": [
    {
     "output_type": "display_data",
     "data": {
      "text/plain": "                   budget     revenue  runtime  vote_average  release_year  \\\ndirector                                                                     \nPeter Jackson  1288000000  6490593685     1355          58.1         16059   \n\n                   Profit  \ndirector                   \nPeter Jackson  5202593685  ",
      "text/html": "<div>\n<style scoped>\n    .dataframe tbody tr th:only-of-type {\n        vertical-align: middle;\n    }\n\n    .dataframe tbody tr th {\n        vertical-align: top;\n    }\n\n    .dataframe thead th {\n        text-align: right;\n    }\n</style>\n<table border=\"1\" class=\"dataframe\">\n  <thead>\n    <tr style=\"text-align: right;\">\n      <th></th>\n      <th>budget</th>\n      <th>revenue</th>\n      <th>runtime</th>\n      <th>vote_average</th>\n      <th>release_year</th>\n      <th>Profit</th>\n    </tr>\n    <tr>\n      <th>director</th>\n      <th></th>\n      <th></th>\n      <th></th>\n      <th></th>\n      <th></th>\n      <th></th>\n    </tr>\n  </thead>\n  <tbody>\n    <tr>\n      <th>Peter Jackson</th>\n      <td>1288000000</td>\n      <td>6490593685</td>\n      <td>1355</td>\n      <td>58.1</td>\n      <td>16059</td>\n      <td>5202593685</td>\n    </tr>\n  </tbody>\n</table>\n</div>"
     },
     "metadata": {}
    }
   ]
  },
  {
   "cell_type": "markdown",
   "metadata": {
    "id": "PsYC9FgRVp_a",
    "colab_type": "text"
   },
   "source": [
    "# 14. Какой режисер снял больше всего фильмов в стиле Action?"
   ]
  },
  {
   "cell_type": "code",
   "metadata": {
    "trusted": true,
    "id": "wd2M-wHeVp_b",
    "colab_type": "code",
    "colab": {}
   },
   "source": [
    "answers['14'] = 'Robert Rodriguez'\n",
    "directors = data[data.genres.str.contains('Action')].director\n",
    "\n",
    "result = []\n",
    "for director in directors:\n",
    "    if '|' in director:\n",
    "        several = director.split('|')\n",
    "        result.extend(several)\n",
    "    else:\n",
    "        result.append(director)\n",
    "\n",
    "from collections import Counter\n",
    "\n",
    "the_most_action_director = Counter(result).most_common(1)\n",
    "display(the_most_action_director)"
   ],
   "execution_count": 71,
   "outputs": [
    {
     "output_type": "display_data",
     "data": {
      "text/plain": "[('Robert Rodriguez', 9)]"
     },
     "metadata": {}
    }
   ]
  },
  {
   "cell_type": "markdown",
   "metadata": {
    "id": "PQ0KciD7Vp_f",
    "colab_type": "text"
   },
   "source": [
    "# 15. Фильмы с каким актером принесли самые высокие кассовые сборы в 2012 году? "
   ]
  },
  {
   "cell_type": "code",
   "metadata": {
    "trusted": true,
    "id": "aga62oeKVp_g",
    "colab_type": "code",
    "colab": {},
    "tags": []
   },
   "source": [
    "answers['15'] = 'Chris Hemsworth'\n",
    "\n",
    "films2012 = data[data.release_year == 2012]\n",
    "casts = films2012.cast\n",
    "\n",
    "actors = splitted(casts)\n",
    "\n",
    "profits = {}\n",
    "\n",
    "for actor in actors:\n",
    "    actor_mask = casts.str.contains(actor)\n",
    "    films_with_actor = films2012[actor_mask]\n",
    "    value = films_with_actor.Profit.sum()\n",
    "    profits[actor] = value\n",
    "\n",
    "print(sorted(profits.items(), key=lambda item: item[1])[-1])"
   ],
   "execution_count": 72,
   "outputs": [
    {
     "output_type": "stream",
     "name": "stdout",
     "text": "('Chris Hemsworth', 1542450773)\n"
    }
   ]
  },
  {
   "cell_type": "markdown",
   "metadata": {
    "id": "mWHyyL7QVp_j",
    "colab_type": "text"
   },
   "source": [
    "# 16. Какой актер снялся в большем количестве высокобюджетных фильмов?"
   ]
  },
  {
   "cell_type": "code",
   "metadata": {
    "trusted": true,
    "id": "qQtmHKTFVp_k",
    "colab_type": "code",
    "colab": {},
    "tags": []
   },
   "source": [
    "answers['16'] = 'Matt Damon'\n",
    "\n",
    "high_budget_films = data[data.budget > data.budget.mean()] \n",
    "\n",
    "high_budget_films_actors = splitted(high_budget_films.cast)\n",
    "high_budget_actor = Counter(high_budget_films_actors).most_common(1)\n",
    "print(high_budget_actor)\n"
   ],
   "execution_count": 73,
   "outputs": [
    {
     "output_type": "stream",
     "name": "stdout",
     "text": "[('Matt Damon', 18)]\n"
    }
   ]
  },
  {
   "cell_type": "markdown",
   "metadata": {
    "id": "NIh6AaW5Vp_n",
    "colab_type": "text"
   },
   "source": [
    "# 17. В фильмах какого жанра больше всего снимался Nicolas Cage? "
   ]
  },
  {
   "cell_type": "code",
   "metadata": {
    "trusted": true,
    "id": "H74SJDIBVp_n",
    "colab_type": "code",
    "colab": {}
   },
   "source": [
    "answers['17'] = 'Action'\n",
    "\n",
    "actor_mask = data.cast.str.contains('Nicolas Cage')\n",
    "cage_films = data[actor_mask]\n",
    "counted_genres = Counter(splitted(cage_films.genres))\n",
    "counted_genres.most_common(1)"
   ],
   "execution_count": 74,
   "outputs": [
    {
     "output_type": "execute_result",
     "data": {
      "text/plain": "[('Action', 17)]"
     },
     "metadata": {},
     "execution_count": 74
    }
   ]
  },
  {
   "cell_type": "markdown",
   "metadata": {
    "id": "RqOmPRfWVp_q",
    "colab_type": "text"
   },
   "source": [
    "# 18. Самый убыточный фильм от Paramount Pictures"
   ]
  },
  {
   "cell_type": "code",
   "metadata": {
    "trusted": true,
    "id": "9E_B0Y96Vp_r",
    "colab_type": "code",
    "colab": {}
   },
   "source": [
    "answers['18'] = '925. K-19: The Widowmaker (tt0267626)'\n",
    "paramount_mask = data.production_companies.str.contains('Paramount Pictures')\n",
    "paramount_films = data[paramount_mask]\n",
    "paramount_films[paramount_films.Profit == paramount_films.Profit.min()]"
   ],
   "execution_count": 75,
   "outputs": [
    {
     "output_type": "execute_result",
     "data": {
      "text/plain": "       imdb_id     budget   revenue        original_title  \\\n925  tt0267626  100000000  35168966  K-19: The Widowmaker   \n\n                                                  cast         director  \\\n925  Harrison Ford|Liam Neeson|Peter Sarsgaard|Joss...  Kathryn Bigelow   \n\n                      tagline  \\\n925  Fate has found its hero.   \n\n                                              overview  runtime  \\\n925  When Russia's first nuclear submarine malfunct...      138   \n\n                     genres  \\\n925  Thriller|Drama|History   \n\n                                  production_companies release_date  \\\n925  Paramount Pictures|Intermedia Films|National G...    7/19/2002   \n\n     vote_average  release_year    Profit  timestamp  \n925           6.0          2002 -64831034 2002-07-19  ",
      "text/html": "<div>\n<style scoped>\n    .dataframe tbody tr th:only-of-type {\n        vertical-align: middle;\n    }\n\n    .dataframe tbody tr th {\n        vertical-align: top;\n    }\n\n    .dataframe thead th {\n        text-align: right;\n    }\n</style>\n<table border=\"1\" class=\"dataframe\">\n  <thead>\n    <tr style=\"text-align: right;\">\n      <th></th>\n      <th>imdb_id</th>\n      <th>budget</th>\n      <th>revenue</th>\n      <th>original_title</th>\n      <th>cast</th>\n      <th>director</th>\n      <th>tagline</th>\n      <th>overview</th>\n      <th>runtime</th>\n      <th>genres</th>\n      <th>production_companies</th>\n      <th>release_date</th>\n      <th>vote_average</th>\n      <th>release_year</th>\n      <th>Profit</th>\n      <th>timestamp</th>\n    </tr>\n  </thead>\n  <tbody>\n    <tr>\n      <th>925</th>\n      <td>tt0267626</td>\n      <td>100000000</td>\n      <td>35168966</td>\n      <td>K-19: The Widowmaker</td>\n      <td>Harrison Ford|Liam Neeson|Peter Sarsgaard|Joss...</td>\n      <td>Kathryn Bigelow</td>\n      <td>Fate has found its hero.</td>\n      <td>When Russia's first nuclear submarine malfunct...</td>\n      <td>138</td>\n      <td>Thriller|Drama|History</td>\n      <td>Paramount Pictures|Intermedia Films|National G...</td>\n      <td>7/19/2002</td>\n      <td>6.0</td>\n      <td>2002</td>\n      <td>-64831034</td>\n      <td>2002-07-19</td>\n    </tr>\n  </tbody>\n</table>\n</div>"
     },
     "metadata": {},
     "execution_count": 75
    }
   ]
  },
  {
   "cell_type": "markdown",
   "metadata": {
    "id": "vS8Ur6ddVp_u",
    "colab_type": "text"
   },
   "source": [
    "# 19. Какой год стал самым успешным по суммарным кассовым сборам?"
   ]
  },
  {
   "cell_type": "code",
   "metadata": {
    "trusted": true,
    "id": "Dnbt4GdIVp_v",
    "colab_type": "code",
    "colab": {}
   },
   "source": [
    "answers['19'] = '2015'\n",
    "data.groupby('release_year').revenue.sum().sort_values().tail(1)"
   ],
   "execution_count": 76,
   "outputs": [
    {
     "output_type": "execute_result",
     "data": {
      "text/plain": "release_year\n2015    25449202382\nName: revenue, dtype: int64"
     },
     "metadata": {},
     "execution_count": 76
    }
   ]
  },
  {
   "cell_type": "markdown",
   "metadata": {
    "id": "JAzJh4QAVp_z",
    "colab_type": "text"
   },
   "source": [
    "# 20. Какой самый прибыльный год для студии Warner Bros?"
   ]
  },
  {
   "cell_type": "code",
   "metadata": {
    "trusted": true,
    "id": "wgVu02DEVp_0",
    "colab_type": "code",
    "colab": {}
   },
   "source": [
    "answers['20'] = '2014'\n",
    "warner_mask = data.production_companies.str.contains('Warner Bros')\n",
    "data[warner_mask].groupby('release_year').Profit.sum().sort_values().tail(1)"
   ],
   "execution_count": 77,
   "outputs": [
    {
     "output_type": "execute_result",
     "data": {
      "text/plain": "release_year\n2014    2295464519\nName: Profit, dtype: int64"
     },
     "metadata": {},
     "execution_count": 77
    }
   ]
  },
  {
   "cell_type": "markdown",
   "metadata": {
    "id": "8Im1S2HRVp_4",
    "colab_type": "text"
   },
   "source": [
    "# 21. В каком месяце за все годы суммарно вышло больше всего фильмов?"
   ]
  },
  {
   "cell_type": "code",
   "metadata": {
    "trusted": true,
    "id": "lev6TH7gVp_4",
    "colab_type": "code",
    "colab": {}
   },
   "source": [
    "answers['21'] = 'Сентябрь'\n",
    "dates = [date.split('/')[0] for date in data.release_date]\n",
    "top_month = Counter(dates).most_common(1)\n",
    "top_month"
   ],
   "execution_count": 78,
   "outputs": [
    {
     "output_type": "execute_result",
     "data": {
      "text/plain": "[('9', 227)]"
     },
     "metadata": {},
     "execution_count": 78
    }
   ]
  },
  {
   "cell_type": "markdown",
   "metadata": {
    "id": "uAJsZ_NeVp_7",
    "colab_type": "text"
   },
   "source": [
    "# 22. Сколько суммарно вышло фильмов летом? (за июнь, июль, август)"
   ]
  },
  {
   "cell_type": "code",
   "metadata": {
    "trusted": true,
    "id": "Aa-hEREoVp_8",
    "colab_type": "code",
    "colab": {},
    "tags": []
   },
   "source": [
    "answers['22'] = 450\n",
    "all_months = [date.month_name() for date in pd.to_datetime(data['release_date'])]\n",
    "counted = Counter(all_months)\n",
    "sum(map(counted.get, ['June', 'July', 'August']))"
   ],
   "execution_count": 79,
   "outputs": [
    {
     "output_type": "execute_result",
     "data": {
      "text/plain": "450"
     },
     "metadata": {},
     "execution_count": 79
    }
   ]
  },
  {
   "cell_type": "markdown",
   "metadata": {
    "id": "G94ppOY1VqAA",
    "colab_type": "text"
   },
   "source": [
    "# 23. Для какого режиссера зима – самое продуктивное время года? "
   ]
  },
  {
   "cell_type": "code",
   "metadata": {
    "trusted": true,
    "id": "RhNTsamuVqAB",
    "colab_type": "code",
    "colab": {}
   },
   "source": [
    "answers['23'] = 'Peter Jackson'\n",
    "winter_months = ['December', 'January', 'February']\n",
    "winter_mask = data.timestamp.map(lambda date: date.month_name() in winter_months)\n",
    "winter = data[winter_mask]\n",
    "directors = splitted(winter.director)\n",
    "most_productive = Counter(directors).most_common(1)\n",
    "most_productive"
   ],
   "execution_count": 80,
   "outputs": [
    {
     "output_type": "execute_result",
     "data": {
      "text/plain": "[('Peter Jackson', 7)]"
     },
     "metadata": {},
     "execution_count": 80
    }
   ]
  },
  {
   "cell_type": "markdown",
   "metadata": {
    "id": "RBo0JVjVVqAF",
    "colab_type": "text"
   },
   "source": [
    "# 24. Какая студия дает самые длинные названия своим фильмам по количеству символов?"
   ]
  },
  {
   "cell_type": "code",
   "metadata": {
    "trusted": true,
    "id": "QRGS8L0iVqAG",
    "colab_type": "code",
    "colab": {}
   },
   "source": [
    "answers['24'] = 'Four By Two Productions'\n",
    "data['length'] = data.original_title.str.len()\n",
    "df2 = pd.DataFrame(data.production_companies.str.split('|').tolist()).stack()\n",
    "df2 = df2.value_counts(ascending=False)\n",
    "df2 = pd.DataFrame(df2)\n",
    "df2.columns = ['length']\n",
    "\n",
    "for idx in df2.index:\n",
    "    df2.length[idx] = data[data.production_companies.str.contains(idx)].length.mean()\n",
    "df2.sort_values(by='length', ascending=False).head(1)"
   ],
   "execution_count": 81,
   "outputs": [
    {
     "output_type": "execute_result",
     "data": {
      "text/plain": "                         length\nFour By Two Productions    83.0",
      "text/html": "<div>\n<style scoped>\n    .dataframe tbody tr th:only-of-type {\n        vertical-align: middle;\n    }\n\n    .dataframe tbody tr th {\n        vertical-align: top;\n    }\n\n    .dataframe thead th {\n        text-align: right;\n    }\n</style>\n<table border=\"1\" class=\"dataframe\">\n  <thead>\n    <tr style=\"text-align: right;\">\n      <th></th>\n      <th>length</th>\n    </tr>\n  </thead>\n  <tbody>\n    <tr>\n      <th>Four By Two Productions</th>\n      <td>83.0</td>\n    </tr>\n  </tbody>\n</table>\n</div>"
     },
     "metadata": {},
     "execution_count": 81
    }
   ]
  },
  {
   "cell_type": "markdown",
   "metadata": {
    "id": "9G0hbvR7VqAK",
    "colab_type": "text"
   },
   "source": [
    "# 25. Описание фильмов какой студии в среднем самые длинные по количеству слов?"
   ]
  },
  {
   "cell_type": "code",
   "metadata": {
    "trusted": true,
    "id": "Ge2GsLNxVqAK",
    "colab_type": "code",
    "colab": {}
   },
   "source": [
    "answers['25'] = 'Midnight Picture Show'\n",
    "data['length'] = data.overview.str.len()\n",
    "df2 = pd.DataFrame(data.production_companies.str.split('|').tolist()).stack()\n",
    "df2 = df2.value_counts(ascending=False)\n",
    "df2 = pd.DataFrame(df2)\n",
    "df2.columns = ['length']\n",
    "\n",
    "for idx in df2.index:\n",
    "    df2.length[idx] = data[data.production_companies.str.contains(idx)].length.mean()\n",
    "\n",
    "df2.sort_values(by='length', ascending=False).head(1)"
   ],
   "execution_count": 82,
   "outputs": [
    {
     "output_type": "execute_result",
     "data": {
      "text/plain": "                       length\nMidnight Picture Show  1000.0",
      "text/html": "<div>\n<style scoped>\n    .dataframe tbody tr th:only-of-type {\n        vertical-align: middle;\n    }\n\n    .dataframe tbody tr th {\n        vertical-align: top;\n    }\n\n    .dataframe thead th {\n        text-align: right;\n    }\n</style>\n<table border=\"1\" class=\"dataframe\">\n  <thead>\n    <tr style=\"text-align: right;\">\n      <th></th>\n      <th>length</th>\n    </tr>\n  </thead>\n  <tbody>\n    <tr>\n      <th>Midnight Picture Show</th>\n      <td>1000.0</td>\n    </tr>\n  </tbody>\n</table>\n</div>"
     },
     "metadata": {},
     "execution_count": 82
    }
   ]
  },
  {
   "cell_type": "markdown",
   "metadata": {
    "id": "FJ1AFt90VqAP",
    "colab_type": "text"
   },
   "source": [
    "# 26. Какие фильмы входят в 1 процент лучших по рейтингу? \n",
    "по vote_average"
   ]
  },
  {
   "cell_type": "code",
   "metadata": {
    "trusted": true,
    "id": "8qmJVq4CVqAQ",
    "colab_type": "code",
    "colab": {}
   },
   "source": [
    "answers['26'] = 'Inside Out, The Dark Knight, 12 Years a Slave'\n",
    "data[data['vote_average']>data.quantile(0.99, numeric_only=True)['vote_average']].sort_values(ascending=False, by='vote_average')"
   ],
   "execution_count": 83,
   "outputs": [
    {
     "output_type": "execute_result",
     "data": {
      "text/plain": "        imdb_id     budget     revenue  \\\n599   tt0468569  185000000  1001921825   \n9     tt2096673  175000000   853708609   \n34    tt3170832    6000000    35401758   \n118   tt0816692  165000000   621752480   \n125   tt2084970   14000000   233555708   \n119   tt2015381  170000000   773312399   \n128   tt2267998   61000000   369330363   \n138   tt2278388   30000000   174600318   \n370   tt1375666  160000000   825500000   \n872   tt0253474   35000000   120072577   \n1081  tt0167260   94000000  1118888979   \n1183  tt0993846  100000000   392000694   \n1191  tt2024544   20000000   187000000   \n1800  tt0209144    9000000    39723096   \n\n                                     original_title  \\\n599                                 The Dark Knight   \n9                                        Inside Out   \n34                                             Room   \n118                                    Interstellar   \n125                              The Imitation Game   \n119                         Guardians of the Galaxy   \n128                                       Gone Girl   \n138                        The Grand Budapest Hotel   \n370                                       Inception   \n872                                     The Pianist   \n1081  The Lord of the Rings: The Return of the King   \n1183                        The Wolf of Wall Street   \n1191                               12 Years a Slave   \n1800                                        Memento   \n\n                                                   cast           director  \\\n599   Christian Bale|Michael Caine|Heath Ledger|Aaro...  Christopher Nolan   \n9     Amy Poehler|Phyllis Smith|Richard Kind|Bill Ha...        Pete Docter   \n34    Brie Larson|Jacob Tremblay|Joan Allen|Sean Bri...   Lenny Abrahamson   \n118   Matthew McConaughey|Jessica Chastain|Anne Hath...  Christopher Nolan   \n125   Benedict Cumberbatch|Keira Knightley|Matthew G...      Morten Tyldum   \n119   Chris Pratt|Zoe Saldana|Dave Bautista|Vin Dies...         James Gunn   \n128   Ben Affleck|Rosamund Pike|Carrie Coon|Neil Pat...      David Fincher   \n138   Ralph Fiennes|Tony Revolori|F. Murray Abraham|...       Wes Anderson   \n370   Leonardo DiCaprio|Joseph Gordon-Levitt|Ellen P...  Christopher Nolan   \n872   Adrien Brody|Thomas Kretschmann|Frank Finlay|M...     Roman Polanski   \n1081  Elijah Wood|Ian McKellen|Viggo Mortensen|Liv T...      Peter Jackson   \n1183  Leonardo DiCaprio|Jonah Hill|Margot Robbie|Kyl...    Martin Scorsese   \n1191  Chiwetel Ejiofor|Michael Fassbender|Lupita Nyo...      Steve McQueen   \n1800  Guy Pearce|Carrie-Anne Moss|Joe Pantoliano|Mar...  Christopher Nolan   \n\n                                                tagline  \\\n599                                     Why So Serious?   \n9              Meet the little voices inside your head.   \n34                             Love knows no boundaries   \n118   Mankind was born on Earth. It was never meant ...   \n125   The true enigma was the man who cracked the code.   \n119                         All heroes start somewhere.   \n128         You don't know what you've got 'til it's...   \n138             A perfect holiday without leaving home.   \n370                Your mind is the scene of the crime.   \n872   Music was his passion. Survival was his master...   \n1081                    The eye of the enemy is moving.   \n1183                                EARN. SPEND. PARTY.   \n1191    The extraordinary true story of Solomon Northup   \n1800                  Some memories are best forgotten.   \n\n                                               overview  runtime  \\\n599   Batman raises the stakes in his war on crime. ...      152   \n9     Growing up can be a bumpy road, and it's no ex...       94   \n34    Jack is a young boy of 5 years old who has liv...      117   \n118   Interstellar chronicles the adventures of a gr...      169   \n125   Based on the real life story of legendary cryp...      113   \n119   Light years from Earth, 26 years after being a...      121   \n128   With his wife's disappearance having become th...      145   \n138   The Grand Budapest Hotel tells of a legendary ...       99   \n370   Cobb, a skilled thief who commits corporate es...      148   \n872   The Pianist is a film adapted from the biograp...      150   \n1081  Aragorn is revealed as the heir to the ancient...      201   \n1183  A New York stockbroker refuses to cooperate in...      180   \n1191  In the pre-Civil War United States, Solomon No...      134   \n1800  Suffering short-term memory loss after a head ...      113   \n\n                                                 genres  \\\n599                         Drama|Action|Crime|Thriller   \n9                               Comedy|Animation|Family   \n34                                       Drama|Thriller   \n118                     Adventure|Drama|Science Fiction   \n125                          History|Drama|Thriller|War   \n119                    Action|Science Fiction|Adventure   \n128                              Mystery|Thriller|Drama   \n138                                        Comedy|Drama   \n370   Action|Thriller|Science Fiction|Mystery|Adventure   \n872                                           Drama|War   \n1081                           Adventure|Fantasy|Action   \n1183                                 Crime|Drama|Comedy   \n1191                                      Drama|History   \n1800                                   Mystery|Thriller   \n\n                                   production_companies release_date  \\\n599   DC Comics|Legendary Pictures|Warner Bros.|Syncopy    7/16/2008   \n9     Walt Disney Pictures|Pixar Animation Studios|W...     6/9/2015   \n34    Element Pictures|No Trace Camping|A24|Duperele...   10/16/2015   \n118   Paramount Pictures|Legendary Pictures|Warner B...    11/5/2014   \n125              Black Bear Pictures|Bristol Automotive   11/14/2014   \n119   Marvel Studios|Moving Picture Company (MPC)|Bu...    7/30/2014   \n128   Twentieth Century Fox Film Corporation|Regency...    10/1/2014   \n138   Fox Searchlight Pictures|Scott Rudin Productio...    2/26/2014   \n370             Legendary Pictures|Warner Bros.|Syncopy    7/14/2010   \n872   Bac Films|Canal+Polska|Heritage Films|Studio B...    9/24/2002   \n1081                      WingNut Films|New Line Cinema    12/1/2003   \n1183  Paramount Pictures|Appian Way|EMJAG Production...   12/25/2013   \n1191  Plan B Entertainment|Regency Enterprises|River...   10/18/2013   \n1800  Summit Entertainment|Newmarket Capital Group|T...   10/11/2000   \n\n      vote_average  release_year      Profit  timestamp  length  \n599            8.1          2008   816921825 2008-07-16     396  \n9              8.0          2015   678708609 2015-06-09     638  \n34             8.0          2015    29401758 2015-10-16     243  \n118            8.0          2014   456752480 2014-11-05     222  \n125            8.0          2014   219555708 2014-11-14     287  \n119            7.9          2014   603312399 2014-07-30     164  \n128            7.9          2014   308330363 2014-10-01     169  \n138            7.9          2014   144600318 2014-02-26     402  \n370            7.9          2010   665500000 2010-07-14     280  \n872            7.9          2002    85072577 2002-09-24     238  \n1081           7.9          2003  1024888979 2003-12-01     254  \n1183           7.9          2013   292000694 2013-12-25     200  \n1191           7.9          2013   167000000 2013-10-18     379  \n1800           7.9          2000    30723096 2000-10-11     436  ",
      "text/html": "<div>\n<style scoped>\n    .dataframe tbody tr th:only-of-type {\n        vertical-align: middle;\n    }\n\n    .dataframe tbody tr th {\n        vertical-align: top;\n    }\n\n    .dataframe thead th {\n        text-align: right;\n    }\n</style>\n<table border=\"1\" class=\"dataframe\">\n  <thead>\n    <tr style=\"text-align: right;\">\n      <th></th>\n      <th>imdb_id</th>\n      <th>budget</th>\n      <th>revenue</th>\n      <th>original_title</th>\n      <th>cast</th>\n      <th>director</th>\n      <th>tagline</th>\n      <th>overview</th>\n      <th>runtime</th>\n      <th>genres</th>\n      <th>production_companies</th>\n      <th>release_date</th>\n      <th>vote_average</th>\n      <th>release_year</th>\n      <th>Profit</th>\n      <th>timestamp</th>\n      <th>length</th>\n    </tr>\n  </thead>\n  <tbody>\n    <tr>\n      <th>599</th>\n      <td>tt0468569</td>\n      <td>185000000</td>\n      <td>1001921825</td>\n      <td>The Dark Knight</td>\n      <td>Christian Bale|Michael Caine|Heath Ledger|Aaro...</td>\n      <td>Christopher Nolan</td>\n      <td>Why So Serious?</td>\n      <td>Batman raises the stakes in his war on crime. ...</td>\n      <td>152</td>\n      <td>Drama|Action|Crime|Thriller</td>\n      <td>DC Comics|Legendary Pictures|Warner Bros.|Syncopy</td>\n      <td>7/16/2008</td>\n      <td>8.1</td>\n      <td>2008</td>\n      <td>816921825</td>\n      <td>2008-07-16</td>\n      <td>396</td>\n    </tr>\n    <tr>\n      <th>9</th>\n      <td>tt2096673</td>\n      <td>175000000</td>\n      <td>853708609</td>\n      <td>Inside Out</td>\n      <td>Amy Poehler|Phyllis Smith|Richard Kind|Bill Ha...</td>\n      <td>Pete Docter</td>\n      <td>Meet the little voices inside your head.</td>\n      <td>Growing up can be a bumpy road, and it's no ex...</td>\n      <td>94</td>\n      <td>Comedy|Animation|Family</td>\n      <td>Walt Disney Pictures|Pixar Animation Studios|W...</td>\n      <td>6/9/2015</td>\n      <td>8.0</td>\n      <td>2015</td>\n      <td>678708609</td>\n      <td>2015-06-09</td>\n      <td>638</td>\n    </tr>\n    <tr>\n      <th>34</th>\n      <td>tt3170832</td>\n      <td>6000000</td>\n      <td>35401758</td>\n      <td>Room</td>\n      <td>Brie Larson|Jacob Tremblay|Joan Allen|Sean Bri...</td>\n      <td>Lenny Abrahamson</td>\n      <td>Love knows no boundaries</td>\n      <td>Jack is a young boy of 5 years old who has liv...</td>\n      <td>117</td>\n      <td>Drama|Thriller</td>\n      <td>Element Pictures|No Trace Camping|A24|Duperele...</td>\n      <td>10/16/2015</td>\n      <td>8.0</td>\n      <td>2015</td>\n      <td>29401758</td>\n      <td>2015-10-16</td>\n      <td>243</td>\n    </tr>\n    <tr>\n      <th>118</th>\n      <td>tt0816692</td>\n      <td>165000000</td>\n      <td>621752480</td>\n      <td>Interstellar</td>\n      <td>Matthew McConaughey|Jessica Chastain|Anne Hath...</td>\n      <td>Christopher Nolan</td>\n      <td>Mankind was born on Earth. It was never meant ...</td>\n      <td>Interstellar chronicles the adventures of a gr...</td>\n      <td>169</td>\n      <td>Adventure|Drama|Science Fiction</td>\n      <td>Paramount Pictures|Legendary Pictures|Warner B...</td>\n      <td>11/5/2014</td>\n      <td>8.0</td>\n      <td>2014</td>\n      <td>456752480</td>\n      <td>2014-11-05</td>\n      <td>222</td>\n    </tr>\n    <tr>\n      <th>125</th>\n      <td>tt2084970</td>\n      <td>14000000</td>\n      <td>233555708</td>\n      <td>The Imitation Game</td>\n      <td>Benedict Cumberbatch|Keira Knightley|Matthew G...</td>\n      <td>Morten Tyldum</td>\n      <td>The true enigma was the man who cracked the code.</td>\n      <td>Based on the real life story of legendary cryp...</td>\n      <td>113</td>\n      <td>History|Drama|Thriller|War</td>\n      <td>Black Bear Pictures|Bristol Automotive</td>\n      <td>11/14/2014</td>\n      <td>8.0</td>\n      <td>2014</td>\n      <td>219555708</td>\n      <td>2014-11-14</td>\n      <td>287</td>\n    </tr>\n    <tr>\n      <th>119</th>\n      <td>tt2015381</td>\n      <td>170000000</td>\n      <td>773312399</td>\n      <td>Guardians of the Galaxy</td>\n      <td>Chris Pratt|Zoe Saldana|Dave Bautista|Vin Dies...</td>\n      <td>James Gunn</td>\n      <td>All heroes start somewhere.</td>\n      <td>Light years from Earth, 26 years after being a...</td>\n      <td>121</td>\n      <td>Action|Science Fiction|Adventure</td>\n      <td>Marvel Studios|Moving Picture Company (MPC)|Bu...</td>\n      <td>7/30/2014</td>\n      <td>7.9</td>\n      <td>2014</td>\n      <td>603312399</td>\n      <td>2014-07-30</td>\n      <td>164</td>\n    </tr>\n    <tr>\n      <th>128</th>\n      <td>tt2267998</td>\n      <td>61000000</td>\n      <td>369330363</td>\n      <td>Gone Girl</td>\n      <td>Ben Affleck|Rosamund Pike|Carrie Coon|Neil Pat...</td>\n      <td>David Fincher</td>\n      <td>You don't know what you've got 'til it's...</td>\n      <td>With his wife's disappearance having become th...</td>\n      <td>145</td>\n      <td>Mystery|Thriller|Drama</td>\n      <td>Twentieth Century Fox Film Corporation|Regency...</td>\n      <td>10/1/2014</td>\n      <td>7.9</td>\n      <td>2014</td>\n      <td>308330363</td>\n      <td>2014-10-01</td>\n      <td>169</td>\n    </tr>\n    <tr>\n      <th>138</th>\n      <td>tt2278388</td>\n      <td>30000000</td>\n      <td>174600318</td>\n      <td>The Grand Budapest Hotel</td>\n      <td>Ralph Fiennes|Tony Revolori|F. Murray Abraham|...</td>\n      <td>Wes Anderson</td>\n      <td>A perfect holiday without leaving home.</td>\n      <td>The Grand Budapest Hotel tells of a legendary ...</td>\n      <td>99</td>\n      <td>Comedy|Drama</td>\n      <td>Fox Searchlight Pictures|Scott Rudin Productio...</td>\n      <td>2/26/2014</td>\n      <td>7.9</td>\n      <td>2014</td>\n      <td>144600318</td>\n      <td>2014-02-26</td>\n      <td>402</td>\n    </tr>\n    <tr>\n      <th>370</th>\n      <td>tt1375666</td>\n      <td>160000000</td>\n      <td>825500000</td>\n      <td>Inception</td>\n      <td>Leonardo DiCaprio|Joseph Gordon-Levitt|Ellen P...</td>\n      <td>Christopher Nolan</td>\n      <td>Your mind is the scene of the crime.</td>\n      <td>Cobb, a skilled thief who commits corporate es...</td>\n      <td>148</td>\n      <td>Action|Thriller|Science Fiction|Mystery|Adventure</td>\n      <td>Legendary Pictures|Warner Bros.|Syncopy</td>\n      <td>7/14/2010</td>\n      <td>7.9</td>\n      <td>2010</td>\n      <td>665500000</td>\n      <td>2010-07-14</td>\n      <td>280</td>\n    </tr>\n    <tr>\n      <th>872</th>\n      <td>tt0253474</td>\n      <td>35000000</td>\n      <td>120072577</td>\n      <td>The Pianist</td>\n      <td>Adrien Brody|Thomas Kretschmann|Frank Finlay|M...</td>\n      <td>Roman Polanski</td>\n      <td>Music was his passion. Survival was his master...</td>\n      <td>The Pianist is a film adapted from the biograp...</td>\n      <td>150</td>\n      <td>Drama|War</td>\n      <td>Bac Films|Canal+Polska|Heritage Films|Studio B...</td>\n      <td>9/24/2002</td>\n      <td>7.9</td>\n      <td>2002</td>\n      <td>85072577</td>\n      <td>2002-09-24</td>\n      <td>238</td>\n    </tr>\n    <tr>\n      <th>1081</th>\n      <td>tt0167260</td>\n      <td>94000000</td>\n      <td>1118888979</td>\n      <td>The Lord of the Rings: The Return of the King</td>\n      <td>Elijah Wood|Ian McKellen|Viggo Mortensen|Liv T...</td>\n      <td>Peter Jackson</td>\n      <td>The eye of the enemy is moving.</td>\n      <td>Aragorn is revealed as the heir to the ancient...</td>\n      <td>201</td>\n      <td>Adventure|Fantasy|Action</td>\n      <td>WingNut Films|New Line Cinema</td>\n      <td>12/1/2003</td>\n      <td>7.9</td>\n      <td>2003</td>\n      <td>1024888979</td>\n      <td>2003-12-01</td>\n      <td>254</td>\n    </tr>\n    <tr>\n      <th>1183</th>\n      <td>tt0993846</td>\n      <td>100000000</td>\n      <td>392000694</td>\n      <td>The Wolf of Wall Street</td>\n      <td>Leonardo DiCaprio|Jonah Hill|Margot Robbie|Kyl...</td>\n      <td>Martin Scorsese</td>\n      <td>EARN. SPEND. PARTY.</td>\n      <td>A New York stockbroker refuses to cooperate in...</td>\n      <td>180</td>\n      <td>Crime|Drama|Comedy</td>\n      <td>Paramount Pictures|Appian Way|EMJAG Production...</td>\n      <td>12/25/2013</td>\n      <td>7.9</td>\n      <td>2013</td>\n      <td>292000694</td>\n      <td>2013-12-25</td>\n      <td>200</td>\n    </tr>\n    <tr>\n      <th>1191</th>\n      <td>tt2024544</td>\n      <td>20000000</td>\n      <td>187000000</td>\n      <td>12 Years a Slave</td>\n      <td>Chiwetel Ejiofor|Michael Fassbender|Lupita Nyo...</td>\n      <td>Steve McQueen</td>\n      <td>The extraordinary true story of Solomon Northup</td>\n      <td>In the pre-Civil War United States, Solomon No...</td>\n      <td>134</td>\n      <td>Drama|History</td>\n      <td>Plan B Entertainment|Regency Enterprises|River...</td>\n      <td>10/18/2013</td>\n      <td>7.9</td>\n      <td>2013</td>\n      <td>167000000</td>\n      <td>2013-10-18</td>\n      <td>379</td>\n    </tr>\n    <tr>\n      <th>1800</th>\n      <td>tt0209144</td>\n      <td>9000000</td>\n      <td>39723096</td>\n      <td>Memento</td>\n      <td>Guy Pearce|Carrie-Anne Moss|Joe Pantoliano|Mar...</td>\n      <td>Christopher Nolan</td>\n      <td>Some memories are best forgotten.</td>\n      <td>Suffering short-term memory loss after a head ...</td>\n      <td>113</td>\n      <td>Mystery|Thriller</td>\n      <td>Summit Entertainment|Newmarket Capital Group|T...</td>\n      <td>10/11/2000</td>\n      <td>7.9</td>\n      <td>2000</td>\n      <td>30723096</td>\n      <td>2000-10-11</td>\n      <td>436</td>\n    </tr>\n  </tbody>\n</table>\n</div>"
     },
     "metadata": {},
     "execution_count": 83
    }
   ]
  },
  {
   "cell_type": "markdown",
   "metadata": {
    "id": "MdXsUXbCVqAV",
    "colab_type": "text"
   },
   "source": [
    "# 27. Какие актеры чаще всего снимаются в одном фильме вместе?\n"
   ]
  },
  {
   "cell_type": "code",
   "execution_count": 84,
   "metadata": {},
   "outputs": [
    {
     "output_type": "execute_result",
     "data": {
      "text/plain": "[(('Daniel Radcliffe', 'Rupert Grint'), 8)]"
     },
     "metadata": {},
     "execution_count": 84
    }
   ],
   "source": [
    "answers['27'] = 'Daniel Radcliffe & Rupert Grint'\n",
    "\n",
    "all_combs = []\n",
    "\n",
    "for cast in data.cast.str.split('|').tolist():\n",
    "    combs = itertools.combinations(cast, 2)\n",
    "    for comb in combs:\n",
    "        all_combs.append(comb)\n",
    "\n",
    "Counter(all_combs).most_common(1)"
   ]
  },
  {
   "cell_type": "markdown",
   "metadata": {
    "id": "4ymnxEVoVqAW",
    "colab_type": "text"
   },
   "source": [
    "ВАРИАНТ 2"
   ]
  },
  {
   "cell_type": "markdown",
   "metadata": {
    "id": "U0nONFnGVqAX",
    "colab_type": "text"
   },
   "source": [
    "# Submission"
   ]
  },
  {
   "cell_type": "code",
   "metadata": {
    "trusted": true,
    "id": "IfcaRO9-VqAX",
    "colab_type": "code",
    "colab": {},
    "outputId": "0f132912-32bb-4196-c98c-abfbc4ad5a5f"
   },
   "source": [
    "# в конце можно посмотреть свои ответы к каждому вопросу\n",
    "answers"
   ],
   "execution_count": 85,
   "outputs": [
    {
     "output_type": "execute_result",
     "data": {
      "text/plain": "{'1': '723. Pirates of the Caribbean: On Stranger Tides (tt1298650)',\n '2': '1157. Gods and Generals (tt0279111)',\n '3': '768. Winnie the Pooh (tt1449283)',\n '4': 110,\n '5': 107,\n '6': '239. Avatar (tt0499549)',\n '7': '1245. The Lone Ranger (tt1210819)',\n '8': 1478,\n '9': '599. The Dark Knight (tt0468569)',\n '10': '1245. The Lone Ranger (tt1210819)',\n '11': 'Drama',\n '12': 'Drama',\n '13': 'Peter Jackson',\n '14': 'Robert Rodriguez',\n '15': 'Chris Hemsworth',\n '16': 'Matt Damon',\n '17': 'Action',\n '18': '925. K-19: The Widowmaker (tt0267626)',\n '19': '2015',\n '20': '2014',\n '21': 'Сентябрь',\n '22': 450,\n '23': 'Peter Jackson',\n '24': 'Four By Two Productions',\n '25': 'Midnight Picture Show',\n '26': 'Inside Out, The Dark Knight, 12 Years a Slave',\n '27': 'Daniel Radcliffe & Rupert Grint'}"
     },
     "metadata": {},
     "execution_count": 85
    }
   ]
  },
  {
   "cell_type": "code",
   "metadata": {
    "trusted": true,
    "id": "SiRmHPl8VqAd",
    "colab_type": "code",
    "colab": {}
   },
   "source": [
    "# и убедиться что ни чего не пропустил)\n",
    "len(answers)"
   ],
   "execution_count": 86,
   "outputs": [
    {
     "output_type": "execute_result",
     "data": {
      "text/plain": "27"
     },
     "metadata": {},
     "execution_count": 86
    }
   ]
  },
  {
   "cell_type": "code",
   "metadata": {
    "trusted": true,
    "id": "uCfuTkRbVqAg",
    "colab_type": "code",
    "colab": {}
   },
   "source": [
    ""
   ],
   "execution_count": null,
   "outputs": []
  },
  {
   "cell_type": "code",
   "metadata": {
    "trusted": true,
    "id": "Vwx3NrkSVqAl",
    "colab_type": "code",
    "colab": {}
   },
   "source": [
    ""
   ],
   "execution_count": null,
   "outputs": []
  }
 ],
 "metadata": {
  "kernelspec": {
   "display_name": "Python 3",
   "language": "python",
   "name": "python3"
  },
  "language_info": {
   "codemirror_mode": {
    "name": "ipython",
    "version": 3
   },
   "file_extension": ".py",
   "mimetype": "text/x-python",
   "name": "python",
   "nbconvert_exporter": "python",
   "pygments_lexer": "ipython3",
   "version": "3.7.6-final"
  },
  "colab": {
   "name": "Copy of [SF-DST] Movies IMBD v4.1 TEMPLATE.ipynb",
   "provenance": []
  }
 },
 "nbformat": 4,
 "nbformat_minor": 0
}
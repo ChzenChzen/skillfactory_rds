{
 "cells": [
  {
   "cell_type": "code",
   "metadata": {
    "_cell_guid": "b1076dfc-b9ad-4769-8c92-a6c4dae69d19",
    "_uuid": "8f2839f25d086af736a60e9eeb907d3b93b6e0e5",
    "trusted": true,
    "id": "U2D2gTdJVp90",
    "colab_type": "code",
    "colab": {}
   },
   "source": [
    "from math import ceil\n",
    "import pandas as pd\n",
    "from collections import Counter\n",
    "import itertools"
   ],
   "execution_count": 1,
   "outputs": []
  },
  {
   "cell_type": "code",
   "metadata": {
    "_cell_guid": "79c7e3d0-c299-4dcb-8224-4455121ee9b0",
    "_uuid": "d629ff2d2480ee46fbb7e2d37f6b5fab8052498a",
    "trusted": true,
    "id": "oyGfxL3eVp9-",
    "colab_type": "code",
    "colab": {}
   },
   "source": [
    "data = pd.read_csv('movie_bd_v5.csv')\n",
    "data.sample(5)"
   ],
   "execution_count": 2,
   "outputs": [
    {
     "data": {
      "text/plain": "        imdb_id     budget    revenue  \\\n356   tt0785006   35000000   73034460   \n394   tt0446029   60000000   47664559   \n1717  tt0426931   25000000   66122026   \n361   tt1175506   25000000    2336172   \n1669  tt0449088  300000000  961000000   \n\n                                original_title  \\\n356                             Hotel for Dogs   \n394                Scott Pilgrim vs. the World   \n1717                               August Rush   \n361                        Me and Orson Welles   \n1669  Pirates of the Caribbean: At World's End   \n\n                                                   cast           director  \\\n356   Emma Roberts|Jake T. Austin|Don Cheadle|Johnny...   Thor Freudenthal   \n394   Michael Cera|Mary Elizabeth Winstead|Kieran Cu...       Edgar Wright   \n1717  Freddie Highmore|Keri Russell|Jonathan Rhys Me...   Kirsten Sheridan   \n361   Zac Efron|Claire Danes|Christian McKay|Imogen ...  Richard Linklater   \n1669  Johnny Depp|Orlando Bloom|Keira Knightley|Geof...     Gore Verbinski   \n\n                                                tagline  \\\n356                          No stray gets turned away.   \n394   Get the hot girl. Defeat her evil exes. Hit lo...   \n1717  An incredible journey moving at the speed of s...   \n361   If you want to discover life learn from the ma...   \n1669     At the end of the world, the adventure begins.   \n\n                                               overview  runtime  \\\n356   Placed in a foster home that doesn't allow pet...      100   \n394   Scott Pilgrim is a film adaptation of the crit...      112   \n1717  A drama with fairy tale elements, where an orp...      114   \n361   New York, 1937. A teenager hired to star in Or...      114   \n1669  Captain Barbossa, long believed to be dead, ha...      169   \n\n                        genres  \\\n356              Comedy|Family   \n394    Action|Adventure|Comedy   \n1717                     Drama   \n361       Comedy|Drama|Romance   \n1669  Adventure|Fantasy|Action   \n\n                                   production_companies release_date  \\\n356                   DreamWorks SKG|Nickelodeon Movies    1/16/2009   \n394           Universal Pictures|Marc Platt Productions    7/27/2010   \n1717  Warner Bros.|CJ Entertainment|Southpaw Enterta...   11/21/2007   \n361       Isle of Man Film|Freestyle Releasing|CinemaNX   11/25/2009   \n1669  Walt Disney Pictures|Jerry Bruckheimer Films|S...    5/19/2007   \n\n      vote_average  release_year  \n356            5.6          2009  \n394            7.2          2010  \n1717           6.9          2007  \n361            6.4          2009  \n1669           6.8          2007  ",
      "text/html": "<div>\n<style scoped>\n    .dataframe tbody tr th:only-of-type {\n        vertical-align: middle;\n    }\n\n    .dataframe tbody tr th {\n        vertical-align: top;\n    }\n\n    .dataframe thead th {\n        text-align: right;\n    }\n</style>\n<table border=\"1\" class=\"dataframe\">\n  <thead>\n    <tr style=\"text-align: right;\">\n      <th></th>\n      <th>imdb_id</th>\n      <th>budget</th>\n      <th>revenue</th>\n      <th>original_title</th>\n      <th>cast</th>\n      <th>director</th>\n      <th>tagline</th>\n      <th>overview</th>\n      <th>runtime</th>\n      <th>genres</th>\n      <th>production_companies</th>\n      <th>release_date</th>\n      <th>vote_average</th>\n      <th>release_year</th>\n    </tr>\n  </thead>\n  <tbody>\n    <tr>\n      <th>356</th>\n      <td>tt0785006</td>\n      <td>35000000</td>\n      <td>73034460</td>\n      <td>Hotel for Dogs</td>\n      <td>Emma Roberts|Jake T. Austin|Don Cheadle|Johnny...</td>\n      <td>Thor Freudenthal</td>\n      <td>No stray gets turned away.</td>\n      <td>Placed in a foster home that doesn't allow pet...</td>\n      <td>100</td>\n      <td>Comedy|Family</td>\n      <td>DreamWorks SKG|Nickelodeon Movies</td>\n      <td>1/16/2009</td>\n      <td>5.6</td>\n      <td>2009</td>\n    </tr>\n    <tr>\n      <th>394</th>\n      <td>tt0446029</td>\n      <td>60000000</td>\n      <td>47664559</td>\n      <td>Scott Pilgrim vs. the World</td>\n      <td>Michael Cera|Mary Elizabeth Winstead|Kieran Cu...</td>\n      <td>Edgar Wright</td>\n      <td>Get the hot girl. Defeat her evil exes. Hit lo...</td>\n      <td>Scott Pilgrim is a film adaptation of the crit...</td>\n      <td>112</td>\n      <td>Action|Adventure|Comedy</td>\n      <td>Universal Pictures|Marc Platt Productions</td>\n      <td>7/27/2010</td>\n      <td>7.2</td>\n      <td>2010</td>\n    </tr>\n    <tr>\n      <th>1717</th>\n      <td>tt0426931</td>\n      <td>25000000</td>\n      <td>66122026</td>\n      <td>August Rush</td>\n      <td>Freddie Highmore|Keri Russell|Jonathan Rhys Me...</td>\n      <td>Kirsten Sheridan</td>\n      <td>An incredible journey moving at the speed of s...</td>\n      <td>A drama with fairy tale elements, where an orp...</td>\n      <td>114</td>\n      <td>Drama</td>\n      <td>Warner Bros.|CJ Entertainment|Southpaw Enterta...</td>\n      <td>11/21/2007</td>\n      <td>6.9</td>\n      <td>2007</td>\n    </tr>\n    <tr>\n      <th>361</th>\n      <td>tt1175506</td>\n      <td>25000000</td>\n      <td>2336172</td>\n      <td>Me and Orson Welles</td>\n      <td>Zac Efron|Claire Danes|Christian McKay|Imogen ...</td>\n      <td>Richard Linklater</td>\n      <td>If you want to discover life learn from the ma...</td>\n      <td>New York, 1937. A teenager hired to star in Or...</td>\n      <td>114</td>\n      <td>Comedy|Drama|Romance</td>\n      <td>Isle of Man Film|Freestyle Releasing|CinemaNX</td>\n      <td>11/25/2009</td>\n      <td>6.4</td>\n      <td>2009</td>\n    </tr>\n    <tr>\n      <th>1669</th>\n      <td>tt0449088</td>\n      <td>300000000</td>\n      <td>961000000</td>\n      <td>Pirates of the Caribbean: At World's End</td>\n      <td>Johnny Depp|Orlando Bloom|Keira Knightley|Geof...</td>\n      <td>Gore Verbinski</td>\n      <td>At the end of the world, the adventure begins.</td>\n      <td>Captain Barbossa, long believed to be dead, ha...</td>\n      <td>169</td>\n      <td>Adventure|Fantasy|Action</td>\n      <td>Walt Disney Pictures|Jerry Bruckheimer Films|S...</td>\n      <td>5/19/2007</td>\n      <td>6.8</td>\n      <td>2007</td>\n    </tr>\n  </tbody>\n</table>\n</div>"
     },
     "execution_count": 2,
     "metadata": {},
     "output_type": "execute_result"
    }
   ]
  },
  {
   "cell_type": "code",
   "metadata": {
    "trusted": true,
    "id": "CoYUnagMVp-C",
    "colab_type": "code",
    "colab": {}
   },
   "source": [
    "data.describe()"
   ],
   "execution_count": 3,
   "outputs": [
    {
     "data": {
      "text/plain": "             budget       revenue      runtime  vote_average  release_year\ncount  1.889000e+03  1.889000e+03  1889.000000   1889.000000   1889.000000\nmean   5.431083e+07  1.553653e+08   109.658549      6.140762   2007.860773\nstd    4.858721e+07  2.146698e+08    18.017041      0.764763      4.468841\nmin    5.000000e+06  2.033165e+06    63.000000      3.300000   2000.000000\n25%    2.000000e+07  3.456058e+07    97.000000      5.600000   2004.000000\n50%    3.800000e+07  8.361541e+07   107.000000      6.100000   2008.000000\n75%    7.200000e+07  1.782626e+08   120.000000      6.600000   2012.000000\nmax    3.800000e+08  2.781506e+09   214.000000      8.100000   2015.000000",
      "text/html": "<div>\n<style scoped>\n    .dataframe tbody tr th:only-of-type {\n        vertical-align: middle;\n    }\n\n    .dataframe tbody tr th {\n        vertical-align: top;\n    }\n\n    .dataframe thead th {\n        text-align: right;\n    }\n</style>\n<table border=\"1\" class=\"dataframe\">\n  <thead>\n    <tr style=\"text-align: right;\">\n      <th></th>\n      <th>budget</th>\n      <th>revenue</th>\n      <th>runtime</th>\n      <th>vote_average</th>\n      <th>release_year</th>\n    </tr>\n  </thead>\n  <tbody>\n    <tr>\n      <th>count</th>\n      <td>1.889000e+03</td>\n      <td>1.889000e+03</td>\n      <td>1889.000000</td>\n      <td>1889.000000</td>\n      <td>1889.000000</td>\n    </tr>\n    <tr>\n      <th>mean</th>\n      <td>5.431083e+07</td>\n      <td>1.553653e+08</td>\n      <td>109.658549</td>\n      <td>6.140762</td>\n      <td>2007.860773</td>\n    </tr>\n    <tr>\n      <th>std</th>\n      <td>4.858721e+07</td>\n      <td>2.146698e+08</td>\n      <td>18.017041</td>\n      <td>0.764763</td>\n      <td>4.468841</td>\n    </tr>\n    <tr>\n      <th>min</th>\n      <td>5.000000e+06</td>\n      <td>2.033165e+06</td>\n      <td>63.000000</td>\n      <td>3.300000</td>\n      <td>2000.000000</td>\n    </tr>\n    <tr>\n      <th>25%</th>\n      <td>2.000000e+07</td>\n      <td>3.456058e+07</td>\n      <td>97.000000</td>\n      <td>5.600000</td>\n      <td>2004.000000</td>\n    </tr>\n    <tr>\n      <th>50%</th>\n      <td>3.800000e+07</td>\n      <td>8.361541e+07</td>\n      <td>107.000000</td>\n      <td>6.100000</td>\n      <td>2008.000000</td>\n    </tr>\n    <tr>\n      <th>75%</th>\n      <td>7.200000e+07</td>\n      <td>1.782626e+08</td>\n      <td>120.000000</td>\n      <td>6.600000</td>\n      <td>2012.000000</td>\n    </tr>\n    <tr>\n      <th>max</th>\n      <td>3.800000e+08</td>\n      <td>2.781506e+09</td>\n      <td>214.000000</td>\n      <td>8.100000</td>\n      <td>2015.000000</td>\n    </tr>\n  </tbody>\n</table>\n</div>"
     },
     "execution_count": 3,
     "metadata": {},
     "output_type": "execute_result"
    }
   ]
  },
  {
   "cell_type": "markdown",
   "metadata": {
    "id": "DTIt7ezGVp-G",
    "colab_type": "text"
   },
   "source": [
    "# Предобработка"
   ]
  },
  {
   "cell_type": "code",
   "metadata": {
    "trusted": true,
    "id": "jNb40DwKVp-H",
    "colab_type": "code",
    "colab": {}
   },
   "source": [
    "profit = data.revenue - data.budget\n",
    "data['Profit'] = profit\n",
    "answers = {} # создадим словарь для ответов\n",
    "data['timestamp'] = pd.to_datetime(data['release_date'])\n",
    "\n",
    "def splitted(column):\n",
    "    values = [value if '|' not in value else value.split('|') for value in column]\n",
    "    return list(pd.core.common.flatten(values))"
   ],
   "execution_count": 4,
   "outputs": []
  },
  {
   "cell_type": "markdown",
   "metadata": {
    "id": "YxZaH-nPVp-L",
    "colab_type": "text"
   },
   "source": [
    "# 1. У какого фильма из списка самый большой бюджет?"
   ]
  },
  {
   "cell_type": "markdown",
   "metadata": {
    "id": "Nd-G5gX6Vp-M",
    "colab_type": "text"
   },
   "source": [
    "Использовать варианты ответов в коде решения запрещено.    \n",
    "Вы думаете и в жизни у вас будут варианты ответов?)"
   ]
  },
  {
   "cell_type": "code",
   "metadata": {
    "trusted": true,
    "id": "uVnXAY5RVp-O",
    "colab_type": "code",
    "colab": {}
   },
   "source": [
    "# в словарь вставляем номер вопроса и ваш ответ на него\n",
    "# Пример: \n",
    "answers['1'] = '2. Spider-Man 3 (tt0413300)'\n",
    "# запишите свой вариант ответа\n",
    "answers['1'] = '723. Pirates of the Caribbean: On Stranger Tides (tt1298650)'\n",
    "# если ответили верно, можете добавить комментарий со значком \"+\""
   ],
   "execution_count": 5,
   "outputs": []
  },
  {
   "cell_type": "code",
   "metadata": {
    "trusted": true,
    "id": "dZwb3m28Vp-S",
    "colab_type": "code",
    "colab": {}
   },
   "source": [
    "# тут пишем ваш код для решения данного вопроса:\n",
    "answer1 = data[data.budget == data.budget.max()]\n",
    "display(answer1)"
   ],
   "execution_count": 6,
   "outputs": [
    {
     "data": {
      "text/plain": "       imdb_id     budget     revenue  \\\n723  tt1298650  380000000  1021683000   \n\n                                  original_title  \\\n723  Pirates of the Caribbean: On Stranger Tides   \n\n                                                  cast      director  \\\n723  Johnny Depp|PenÃ©lope Cruz|Geoffrey Rush|Ian M...  Rob Marshall   \n\n                         tagline  \\\n723  Live Forever Or Die Trying.   \n\n                                              overview  runtime  \\\n723  Captain Jack Sparrow crosses paths with a woma...      136   \n\n                       genres  \\\n723  Adventure|Action|Fantasy   \n\n                                  production_companies release_date  \\\n723  Walt Disney Pictures|Jerry Bruckheimer Films|M...    5/11/2011   \n\n     vote_average  release_year     Profit  timestamp  \n723           6.3          2011  641683000 2011-05-11  ",
      "text/html": "<div>\n<style scoped>\n    .dataframe tbody tr th:only-of-type {\n        vertical-align: middle;\n    }\n\n    .dataframe tbody tr th {\n        vertical-align: top;\n    }\n\n    .dataframe thead th {\n        text-align: right;\n    }\n</style>\n<table border=\"1\" class=\"dataframe\">\n  <thead>\n    <tr style=\"text-align: right;\">\n      <th></th>\n      <th>imdb_id</th>\n      <th>budget</th>\n      <th>revenue</th>\n      <th>original_title</th>\n      <th>cast</th>\n      <th>director</th>\n      <th>tagline</th>\n      <th>overview</th>\n      <th>runtime</th>\n      <th>genres</th>\n      <th>production_companies</th>\n      <th>release_date</th>\n      <th>vote_average</th>\n      <th>release_year</th>\n      <th>Profit</th>\n      <th>timestamp</th>\n    </tr>\n  </thead>\n  <tbody>\n    <tr>\n      <th>723</th>\n      <td>tt1298650</td>\n      <td>380000000</td>\n      <td>1021683000</td>\n      <td>Pirates of the Caribbean: On Stranger Tides</td>\n      <td>Johnny Depp|PenÃ©lope Cruz|Geoffrey Rush|Ian M...</td>\n      <td>Rob Marshall</td>\n      <td>Live Forever Or Die Trying.</td>\n      <td>Captain Jack Sparrow crosses paths with a woma...</td>\n      <td>136</td>\n      <td>Adventure|Action|Fantasy</td>\n      <td>Walt Disney Pictures|Jerry Bruckheimer Films|M...</td>\n      <td>5/11/2011</td>\n      <td>6.3</td>\n      <td>2011</td>\n      <td>641683000</td>\n      <td>2011-05-11</td>\n    </tr>\n  </tbody>\n</table>\n</div>"
     },
     "metadata": {},
     "output_type": "display_data"
    }
   ]
  },
  {
   "cell_type": "markdown",
   "metadata": {
    "id": "K7L3nbRXVp-X",
    "colab_type": "text"
   },
   "source": [
    "ВАРИАНТ 2"
   ]
  },
  {
   "cell_type": "code",
   "metadata": {
    "trusted": true,
    "id": "OGaoQI7rVp-X",
    "colab_type": "code",
    "colab": {}
   },
   "source": [
    "# можно добавлять разные варианты решения"
   ],
   "execution_count": 7,
   "outputs": []
  },
  {
   "cell_type": "markdown",
   "metadata": {
    "id": "FNRbbI3vVp-c",
    "colab_type": "text"
   },
   "source": [
    "# 2. Какой из фильмов самый длительный (в минутах)?"
   ]
  },
  {
   "cell_type": "code",
   "metadata": {
    "trusted": true,
    "id": "vHAoEXNTVp-d",
    "colab_type": "code",
    "colab": {}
   },
   "source": [
    "# думаю логику работы с этим словарем вы уже поняли, \n",
    "# по этому не буду больше его дублировать\n",
    "answers['2'] = '1157. Gods and Generals (tt0279111)'"
   ],
   "execution_count": 8,
   "outputs": []
  },
  {
   "cell_type": "code",
   "metadata": {
    "trusted": true,
    "id": "ot-VX2XrVp-g",
    "colab_type": "code",
    "colab": {}
   },
   "source": [
    "answer2 = data[data.runtime == data.runtime.max()]\n",
    "display(answer2)"
   ],
   "execution_count": 9,
   "outputs": [
    {
     "data": {
      "text/plain": "        imdb_id    budget   revenue     original_title  \\\n1157  tt0279111  56000000  12923936  Gods and Generals   \n\n                                                   cast           director  \\\n1157  Stephen Lang|Jeff Daniels|Robert Duvall|Kevin ...  Ronald F. Maxwell   \n\n                                  tagline  \\\n1157  The nations heart was touched by...   \n\n                                               overview  runtime  \\\n1157  The film centers mostly around the personal an...      214   \n\n                 genres                production_companies release_date  \\\n1157  Drama|History|War  Turner Pictures|Antietam Filmworks    2/21/2003   \n\n      vote_average  release_year    Profit  timestamp  \n1157           5.8          2003 -43076064 2003-02-21  ",
      "text/html": "<div>\n<style scoped>\n    .dataframe tbody tr th:only-of-type {\n        vertical-align: middle;\n    }\n\n    .dataframe tbody tr th {\n        vertical-align: top;\n    }\n\n    .dataframe thead th {\n        text-align: right;\n    }\n</style>\n<table border=\"1\" class=\"dataframe\">\n  <thead>\n    <tr style=\"text-align: right;\">\n      <th></th>\n      <th>imdb_id</th>\n      <th>budget</th>\n      <th>revenue</th>\n      <th>original_title</th>\n      <th>cast</th>\n      <th>director</th>\n      <th>tagline</th>\n      <th>overview</th>\n      <th>runtime</th>\n      <th>genres</th>\n      <th>production_companies</th>\n      <th>release_date</th>\n      <th>vote_average</th>\n      <th>release_year</th>\n      <th>Profit</th>\n      <th>timestamp</th>\n    </tr>\n  </thead>\n  <tbody>\n    <tr>\n      <th>1157</th>\n      <td>tt0279111</td>\n      <td>56000000</td>\n      <td>12923936</td>\n      <td>Gods and Generals</td>\n      <td>Stephen Lang|Jeff Daniels|Robert Duvall|Kevin ...</td>\n      <td>Ronald F. Maxwell</td>\n      <td>The nations heart was touched by...</td>\n      <td>The film centers mostly around the personal an...</td>\n      <td>214</td>\n      <td>Drama|History|War</td>\n      <td>Turner Pictures|Antietam Filmworks</td>\n      <td>2/21/2003</td>\n      <td>5.8</td>\n      <td>2003</td>\n      <td>-43076064</td>\n      <td>2003-02-21</td>\n    </tr>\n  </tbody>\n</table>\n</div>"
     },
     "metadata": {},
     "output_type": "display_data"
    }
   ]
  },
  {
   "cell_type": "markdown",
   "metadata": {
    "id": "bapLlpW8Vp-k",
    "colab_type": "text"
   },
   "source": [
    "# 3. Какой из фильмов самый короткий (в минутах)?"
   ]
  },
  {
   "cell_type": "code",
   "metadata": {
    "trusted": true,
    "id": "YBxaSHuAVp-l",
    "colab_type": "code",
    "colab": {}
   },
   "source": [
    "answers['3'] = '768. Winnie the Pooh (tt1449283)'\n",
    "\n",
    "answer3 = data[data.runtime == data.runtime.min()]\n",
    "display(answer3)\n"
   ],
   "execution_count": 10,
   "outputs": [
    {
     "data": {
      "text/plain": "       imdb_id    budget   revenue   original_title  \\\n768  tt1449283  30000000  14460000  Winnie the Pooh   \n\n                                                  cast  \\\n768  Jim Cummings|Travis Oates|Jim Cummings|Bud Luc...   \n\n                      director   tagline  \\\n768  Stephen Anderson|Don Hall  Oh Pooh.   \n\n                                              overview  runtime  \\\n768  During an ordinary day in Hundred Acre Wood, W...       63   \n\n               genres                               production_companies  \\\n768  Animation|Family  Walt Disney Pictures|Walt Disney Animation Stu...   \n\n    release_date  vote_average  release_year    Profit  timestamp  \n768    4/13/2011           6.8          2011 -15540000 2011-04-13  ",
      "text/html": "<div>\n<style scoped>\n    .dataframe tbody tr th:only-of-type {\n        vertical-align: middle;\n    }\n\n    .dataframe tbody tr th {\n        vertical-align: top;\n    }\n\n    .dataframe thead th {\n        text-align: right;\n    }\n</style>\n<table border=\"1\" class=\"dataframe\">\n  <thead>\n    <tr style=\"text-align: right;\">\n      <th></th>\n      <th>imdb_id</th>\n      <th>budget</th>\n      <th>revenue</th>\n      <th>original_title</th>\n      <th>cast</th>\n      <th>director</th>\n      <th>tagline</th>\n      <th>overview</th>\n      <th>runtime</th>\n      <th>genres</th>\n      <th>production_companies</th>\n      <th>release_date</th>\n      <th>vote_average</th>\n      <th>release_year</th>\n      <th>Profit</th>\n      <th>timestamp</th>\n    </tr>\n  </thead>\n  <tbody>\n    <tr>\n      <th>768</th>\n      <td>tt1449283</td>\n      <td>30000000</td>\n      <td>14460000</td>\n      <td>Winnie the Pooh</td>\n      <td>Jim Cummings|Travis Oates|Jim Cummings|Bud Luc...</td>\n      <td>Stephen Anderson|Don Hall</td>\n      <td>Oh Pooh.</td>\n      <td>During an ordinary day in Hundred Acre Wood, W...</td>\n      <td>63</td>\n      <td>Animation|Family</td>\n      <td>Walt Disney Pictures|Walt Disney Animation Stu...</td>\n      <td>4/13/2011</td>\n      <td>6.8</td>\n      <td>2011</td>\n      <td>-15540000</td>\n      <td>2011-04-13</td>\n    </tr>\n  </tbody>\n</table>\n</div>"
     },
     "metadata": {},
     "output_type": "display_data"
    }
   ]
  },
  {
   "cell_type": "markdown",
   "metadata": {
    "id": "TfQbxbfNVp-p",
    "colab_type": "text"
   },
   "source": [
    "# 4. Какова средняя длительность фильмов?\n"
   ]
  },
  {
   "cell_type": "code",
   "metadata": {
    "trusted": true,
    "id": "5K6dKZYVVp-q",
    "colab_type": "code",
    "colab": {}
   },
   "source": [
    "answers['4'] = 110\n",
    "\n",
    "answer4 = data.runtime.mean()\n",
    "display(ceil(answer4))\n"
   ],
   "execution_count": 11,
   "outputs": [
    {
     "data": {
      "text/plain": "110"
     },
     "metadata": {},
     "output_type": "display_data"
    }
   ]
  },
  {
   "cell_type": "markdown",
   "metadata": {
    "id": "r5TvbnT_Vp-u",
    "colab_type": "text"
   },
   "source": [
    "# 5. Каково медианное значение длительности фильмов? "
   ]
  },
  {
   "cell_type": "code",
   "metadata": {
    "trusted": true,
    "id": "iBROplKnVp-v",
    "colab_type": "code",
    "colab": {}
   },
   "source": [
    "answers['5'] = 107\n",
    "\n",
    "answer5 = data.runtime.median()\n",
    "display(ceil(answer5))\n"
   ],
   "execution_count": 12,
   "outputs": [
    {
     "data": {
      "text/plain": "107"
     },
     "metadata": {},
     "output_type": "display_data"
    }
   ]
  },
  {
   "cell_type": "markdown",
   "metadata": {
    "id": "39P-deDSVp-y",
    "colab_type": "text"
   },
   "source": [
    "# 6. Какой самый прибыльный фильм?\n",
    "#### Внимание! Здесь и далее под «прибылью» или «убытками» понимается разность между сборами и бюджетом фильма. (прибыль = сборы - бюджет) в нашем датасете это будет (profit = revenue - budget) "
   ]
  },
  {
   "cell_type": "code",
   "metadata": {
    "trusted": true,
    "id": "UYZh4T9WVp-y",
    "colab_type": "code",
    "colab": {}
   },
   "source": [
    "answers['6'] = '239. Avatar (tt0499549)'\n",
    "\n",
    "top_profit = data[data.Profit == data.Profit.max()]\n",
    "display(top_profit)"
   ],
   "execution_count": 13,
   "outputs": [
    {
     "data": {
      "text/plain": "       imdb_id     budget     revenue original_title  \\\n239  tt0499549  237000000  2781505847         Avatar   \n\n                                                  cast       director  \\\n239  Sam Worthington|Zoe Saldana|Sigourney Weaver|S...  James Cameron   \n\n                         tagline  \\\n239  Enter the World of Pandora.   \n\n                                              overview  runtime  \\\n239  In the 22nd century, a paraplegic Marine is di...      162   \n\n                                       genres  \\\n239  Action|Adventure|Fantasy|Science Fiction   \n\n                                  production_companies release_date  \\\n239  Ingenious Film Partners|Twentieth Century Fox ...   12/10/2009   \n\n     vote_average  release_year      Profit  timestamp  \n239           7.1          2009  2544505847 2009-12-10  ",
      "text/html": "<div>\n<style scoped>\n    .dataframe tbody tr th:only-of-type {\n        vertical-align: middle;\n    }\n\n    .dataframe tbody tr th {\n        vertical-align: top;\n    }\n\n    .dataframe thead th {\n        text-align: right;\n    }\n</style>\n<table border=\"1\" class=\"dataframe\">\n  <thead>\n    <tr style=\"text-align: right;\">\n      <th></th>\n      <th>imdb_id</th>\n      <th>budget</th>\n      <th>revenue</th>\n      <th>original_title</th>\n      <th>cast</th>\n      <th>director</th>\n      <th>tagline</th>\n      <th>overview</th>\n      <th>runtime</th>\n      <th>genres</th>\n      <th>production_companies</th>\n      <th>release_date</th>\n      <th>vote_average</th>\n      <th>release_year</th>\n      <th>Profit</th>\n      <th>timestamp</th>\n    </tr>\n  </thead>\n  <tbody>\n    <tr>\n      <th>239</th>\n      <td>tt0499549</td>\n      <td>237000000</td>\n      <td>2781505847</td>\n      <td>Avatar</td>\n      <td>Sam Worthington|Zoe Saldana|Sigourney Weaver|S...</td>\n      <td>James Cameron</td>\n      <td>Enter the World of Pandora.</td>\n      <td>In the 22nd century, a paraplegic Marine is di...</td>\n      <td>162</td>\n      <td>Action|Adventure|Fantasy|Science Fiction</td>\n      <td>Ingenious Film Partners|Twentieth Century Fox ...</td>\n      <td>12/10/2009</td>\n      <td>7.1</td>\n      <td>2009</td>\n      <td>2544505847</td>\n      <td>2009-12-10</td>\n    </tr>\n  </tbody>\n</table>\n</div>"
     },
     "metadata": {},
     "output_type": "display_data"
    }
   ]
  },
  {
   "cell_type": "markdown",
   "metadata": {
    "id": "M99JmIX4Vp-2",
    "colab_type": "text"
   },
   "source": [
    "# 7. Какой фильм самый убыточный? "
   ]
  },
  {
   "cell_type": "code",
   "metadata": {
    "trusted": true,
    "id": "w-D2m4XPVp-3",
    "colab_type": "code",
    "colab": {}
   },
   "source": [
    "answers['7'] = '1245. The Lone Ranger (tt1210819)'\n",
    "\n",
    "the_worst_profit = data[data.Profit == data.Profit.min()]\n",
    "display(the_worst_profit)\n"
   ],
   "execution_count": 14,
   "outputs": [
    {
     "data": {
      "text/plain": "        imdb_id     budget   revenue   original_title  \\\n1245  tt1210819  255000000  89289910  The Lone Ranger   \n\n                                                   cast        director  \\\n1245  Johnny Depp|Armie Hammer|William Fichtner|Hele...  Gore Verbinski   \n\n                      tagline  \\\n1245  Never Take Off the Mask   \n\n                                               overview  runtime  \\\n1245  The Texas Rangers chase down a gang of outlaws...      149   \n\n                        genres  \\\n1245  Action|Adventure|Western   \n\n                                   production_companies release_date  \\\n1245  Walt Disney Pictures|Jerry Bruckheimer Films|I...     7/3/2013   \n\n      vote_average  release_year     Profit  timestamp  \n1245           6.0          2013 -165710090 2013-07-03  ",
      "text/html": "<div>\n<style scoped>\n    .dataframe tbody tr th:only-of-type {\n        vertical-align: middle;\n    }\n\n    .dataframe tbody tr th {\n        vertical-align: top;\n    }\n\n    .dataframe thead th {\n        text-align: right;\n    }\n</style>\n<table border=\"1\" class=\"dataframe\">\n  <thead>\n    <tr style=\"text-align: right;\">\n      <th></th>\n      <th>imdb_id</th>\n      <th>budget</th>\n      <th>revenue</th>\n      <th>original_title</th>\n      <th>cast</th>\n      <th>director</th>\n      <th>tagline</th>\n      <th>overview</th>\n      <th>runtime</th>\n      <th>genres</th>\n      <th>production_companies</th>\n      <th>release_date</th>\n      <th>vote_average</th>\n      <th>release_year</th>\n      <th>Profit</th>\n      <th>timestamp</th>\n    </tr>\n  </thead>\n  <tbody>\n    <tr>\n      <th>1245</th>\n      <td>tt1210819</td>\n      <td>255000000</td>\n      <td>89289910</td>\n      <td>The Lone Ranger</td>\n      <td>Johnny Depp|Armie Hammer|William Fichtner|Hele...</td>\n      <td>Gore Verbinski</td>\n      <td>Never Take Off the Mask</td>\n      <td>The Texas Rangers chase down a gang of outlaws...</td>\n      <td>149</td>\n      <td>Action|Adventure|Western</td>\n      <td>Walt Disney Pictures|Jerry Bruckheimer Films|I...</td>\n      <td>7/3/2013</td>\n      <td>6.0</td>\n      <td>2013</td>\n      <td>-165710090</td>\n      <td>2013-07-03</td>\n    </tr>\n  </tbody>\n</table>\n</div>"
     },
     "metadata": {},
     "output_type": "display_data"
    }
   ]
  },
  {
   "cell_type": "markdown",
   "metadata": {
    "id": "wEOM5ERVVp-6",
    "colab_type": "text"
   },
   "source": [
    "# 8. У скольких фильмов из датасета объем сборов оказался выше бюджета?"
   ]
  },
  {
   "cell_type": "code",
   "metadata": {
    "trusted": true,
    "id": "y00_7HD6Vp-7",
    "colab_type": "code",
    "colab": {},
    "tags": []
   },
   "source": [
    "answers['8'] = 1478\n",
    "\n",
    "answer8 = data[data.Profit > 0].info()\n",
    "display(answer8)"
   ],
   "execution_count": 15,
   "outputs": [
    {
     "name": "stdout",
     "output_type": "stream",
     "text": [
      "<class 'pandas.core.frame.DataFrame'>\n",
      "Int64Index: 1478 entries, 0 to 1884\n",
      "Data columns (total 16 columns):\n",
      " #   Column                Non-Null Count  Dtype         \n",
      "---  ------                --------------  -----         \n",
      " 0   imdb_id               1478 non-null   object        \n",
      " 1   budget                1478 non-null   int64         \n",
      " 2   revenue               1478 non-null   int64         \n",
      " 3   original_title        1478 non-null   object        \n",
      " 4   cast                  1478 non-null   object        \n",
      " 5   director              1478 non-null   object        \n",
      " 6   tagline               1478 non-null   object        \n",
      " 7   overview              1478 non-null   object        \n",
      " 8   runtime               1478 non-null   int64         \n",
      " 9   genres                1478 non-null   object        \n",
      " 10  production_companies  1478 non-null   object        \n",
      " 11  release_date          1478 non-null   object        \n",
      " 12  vote_average          1478 non-null   float64       \n",
      " 13  release_year          1478 non-null   int64         \n",
      " 14  Profit                1478 non-null   int64         \n",
      " 15  timestamp             1478 non-null   datetime64[ns]\n",
      "dtypes: datetime64[ns](1), float64(1), int64(5), object(9)\n",
      "memory usage: 196.3+ KB\n"
     ]
    },
    {
     "data": {
      "text/plain": "None"
     },
     "metadata": {},
     "output_type": "display_data"
    }
   ]
  },
  {
   "cell_type": "markdown",
   "metadata": {
    "id": "xhpspA9KVp_A",
    "colab_type": "text"
   },
   "source": [
    "# 9. Какой фильм оказался самым кассовым в 2008 году?"
   ]
  },
  {
   "cell_type": "code",
   "metadata": {
    "trusted": true,
    "id": "MoUyQr9RVp_B",
    "colab_type": "code",
    "colab": {}
   },
   "source": [
    "answers['9'] = '599. The Dark Knight (tt0468569)'\n",
    "\n",
    "the_best_film2008 = data[data.release_year == 2008].sort_values('revenue', ascending=False).head(1)\n",
    "\n",
    "display(the_best_film2008)"
   ],
   "execution_count": 16,
   "outputs": [
    {
     "data": {
      "text/plain": "       imdb_id     budget     revenue   original_title  \\\n599  tt0468569  185000000  1001921825  The Dark Knight   \n\n                                                  cast           director  \\\n599  Christian Bale|Michael Caine|Heath Ledger|Aaro...  Christopher Nolan   \n\n             tagline                                           overview  \\\n599  Why So Serious?  Batman raises the stakes in his war on crime. ...   \n\n     runtime                       genres  \\\n599      152  Drama|Action|Crime|Thriller   \n\n                                  production_companies release_date  \\\n599  DC Comics|Legendary Pictures|Warner Bros.|Syncopy    7/16/2008   \n\n     vote_average  release_year     Profit  timestamp  \n599           8.1          2008  816921825 2008-07-16  ",
      "text/html": "<div>\n<style scoped>\n    .dataframe tbody tr th:only-of-type {\n        vertical-align: middle;\n    }\n\n    .dataframe tbody tr th {\n        vertical-align: top;\n    }\n\n    .dataframe thead th {\n        text-align: right;\n    }\n</style>\n<table border=\"1\" class=\"dataframe\">\n  <thead>\n    <tr style=\"text-align: right;\">\n      <th></th>\n      <th>imdb_id</th>\n      <th>budget</th>\n      <th>revenue</th>\n      <th>original_title</th>\n      <th>cast</th>\n      <th>director</th>\n      <th>tagline</th>\n      <th>overview</th>\n      <th>runtime</th>\n      <th>genres</th>\n      <th>production_companies</th>\n      <th>release_date</th>\n      <th>vote_average</th>\n      <th>release_year</th>\n      <th>Profit</th>\n      <th>timestamp</th>\n    </tr>\n  </thead>\n  <tbody>\n    <tr>\n      <th>599</th>\n      <td>tt0468569</td>\n      <td>185000000</td>\n      <td>1001921825</td>\n      <td>The Dark Knight</td>\n      <td>Christian Bale|Michael Caine|Heath Ledger|Aaro...</td>\n      <td>Christopher Nolan</td>\n      <td>Why So Serious?</td>\n      <td>Batman raises the stakes in his war on crime. ...</td>\n      <td>152</td>\n      <td>Drama|Action|Crime|Thriller</td>\n      <td>DC Comics|Legendary Pictures|Warner Bros.|Syncopy</td>\n      <td>7/16/2008</td>\n      <td>8.1</td>\n      <td>2008</td>\n      <td>816921825</td>\n      <td>2008-07-16</td>\n    </tr>\n  </tbody>\n</table>\n</div>"
     },
     "metadata": {},
     "output_type": "display_data"
    }
   ]
  },
  {
   "cell_type": "markdown",
   "metadata": {
    "id": "Zi4hDKidVp_F",
    "colab_type": "text"
   },
   "source": [
    "# 10. Самый убыточный фильм за период с 2012 по 2014 г. (включительно)?\n"
   ]
  },
  {
   "cell_type": "code",
   "metadata": {
    "trusted": true,
    "id": "XqyRmufJVp_F",
    "colab_type": "code",
    "colab": {}
   },
   "source": [
    "answers['10'] = '1245. The Lone Ranger (tt1210819)'\n",
    "\n",
    "the_worst_2012_2014 = data[(2012 <= data.release_year) & (data.release_year <=2014)].sort_values('Profit').head(1)\n",
    "\n",
    "display(the_worst_2012_2014)"
   ],
   "execution_count": 17,
   "outputs": [
    {
     "data": {
      "text/plain": "        imdb_id     budget   revenue   original_title  \\\n1245  tt1210819  255000000  89289910  The Lone Ranger   \n\n                                                   cast        director  \\\n1245  Johnny Depp|Armie Hammer|William Fichtner|Hele...  Gore Verbinski   \n\n                      tagline  \\\n1245  Never Take Off the Mask   \n\n                                               overview  runtime  \\\n1245  The Texas Rangers chase down a gang of outlaws...      149   \n\n                        genres  \\\n1245  Action|Adventure|Western   \n\n                                   production_companies release_date  \\\n1245  Walt Disney Pictures|Jerry Bruckheimer Films|I...     7/3/2013   \n\n      vote_average  release_year     Profit  timestamp  \n1245           6.0          2013 -165710090 2013-07-03  ",
      "text/html": "<div>\n<style scoped>\n    .dataframe tbody tr th:only-of-type {\n        vertical-align: middle;\n    }\n\n    .dataframe tbody tr th {\n        vertical-align: top;\n    }\n\n    .dataframe thead th {\n        text-align: right;\n    }\n</style>\n<table border=\"1\" class=\"dataframe\">\n  <thead>\n    <tr style=\"text-align: right;\">\n      <th></th>\n      <th>imdb_id</th>\n      <th>budget</th>\n      <th>revenue</th>\n      <th>original_title</th>\n      <th>cast</th>\n      <th>director</th>\n      <th>tagline</th>\n      <th>overview</th>\n      <th>runtime</th>\n      <th>genres</th>\n      <th>production_companies</th>\n      <th>release_date</th>\n      <th>vote_average</th>\n      <th>release_year</th>\n      <th>Profit</th>\n      <th>timestamp</th>\n    </tr>\n  </thead>\n  <tbody>\n    <tr>\n      <th>1245</th>\n      <td>tt1210819</td>\n      <td>255000000</td>\n      <td>89289910</td>\n      <td>The Lone Ranger</td>\n      <td>Johnny Depp|Armie Hammer|William Fichtner|Hele...</td>\n      <td>Gore Verbinski</td>\n      <td>Never Take Off the Mask</td>\n      <td>The Texas Rangers chase down a gang of outlaws...</td>\n      <td>149</td>\n      <td>Action|Adventure|Western</td>\n      <td>Walt Disney Pictures|Jerry Bruckheimer Films|I...</td>\n      <td>7/3/2013</td>\n      <td>6.0</td>\n      <td>2013</td>\n      <td>-165710090</td>\n      <td>2013-07-03</td>\n    </tr>\n  </tbody>\n</table>\n</div>"
     },
     "metadata": {},
     "output_type": "display_data"
    }
   ]
  },
  {
   "cell_type": "markdown",
   "metadata": {
    "id": "EA7Sa9dkVp_I",
    "colab_type": "text"
   },
   "source": [
    "# 11. Какого жанра фильмов больше всего?"
   ]
  },
  {
   "cell_type": "code",
   "metadata": {
    "trusted": true,
    "id": "zsJAwJ8QVp_J",
    "colab_type": "code",
    "colab": {},
    "tags": []
   },
   "source": [
    "answers['11'] = 'Drama'\n",
    "\n",
    "counted_genres = Counter(splitted(data.genres))\n",
    "\n",
    "\n",
    "display(counted_genres.most_common(1))"
   ],
   "execution_count": 18,
   "outputs": [
    {
     "data": {
      "text/plain": "[('Drama', 782)]"
     },
     "metadata": {},
     "output_type": "display_data"
    }
   ]
  },
  {
   "cell_type": "markdown",
   "metadata": {
    "id": "Ax6g2C8SVp_M",
    "colab_type": "text"
   },
   "source": [
    "ВАРИАНТ 2"
   ]
  },
  {
   "cell_type": "code",
   "metadata": {
    "trusted": true,
    "id": "otO3SbrSVp_N",
    "colab_type": "code",
    "colab": {}
   },
   "source": [
    "\n",
    "genres = itertools.chain.from_iterable(genre.split('|') for genre in data.genres)\n",
    "\n",
    "pd.Series(genres).value_counts()"
   ],
   "execution_count": 19,
   "outputs": [
    {
     "data": {
      "text/plain": "Drama              782\nComedy             683\nThriller           596\nAction             582\nAdventure          415\nCrime              315\nRomance            308\nFamily             260\nScience Fiction    248\nFantasy            222\nHorror             176\nMystery            168\nAnimation          139\nMusic               64\nHistory             62\nWar                 58\nWestern             19\nDocumentary          8\nForeign              2\ndtype: int64"
     },
     "execution_count": 19,
     "metadata": {},
     "output_type": "execute_result"
    }
   ]
  },
  {
   "cell_type": "markdown",
   "metadata": {
    "id": "T9_bPWpkVp_Q",
    "colab_type": "text"
   },
   "source": [
    "# 12. Фильмы какого жанра чаще всего становятся прибыльными? "
   ]
  },
  {
   "cell_type": "code",
   "metadata": {
    "trusted": true,
    "id": "Tmt8MaK1Vp_R",
    "colab_type": "code",
    "colab": {}
   },
   "source": [
    "answers['12'] = 'Drama'\n",
    "\n",
    "profit_genres = data[data.Profit > 0]['genres']\n",
    "counted_profit_genres = Counter(splitted(profit_genres))\n",
    "\n",
    "display(counted_profit_genres.most_common(1))"
   ],
   "execution_count": 20,
   "outputs": [
    {
     "data": {
      "text/plain": "[('Drama', 560)]"
     },
     "metadata": {},
     "output_type": "display_data"
    }
   ]
  },
  {
   "cell_type": "markdown",
   "metadata": {
    "id": "0F23bgsDVp_U",
    "colab_type": "text"
   },
   "source": [
    "# 13. У какого режиссера самые большие суммарные кассовые сбооры?"
   ]
  },
  {
   "cell_type": "code",
   "metadata": {
    "trusted": true,
    "id": "K6Z3J8ygVp_X",
    "colab_type": "code",
    "colab": {}
   },
   "source": [
    "answers['13'] = 'Peter Jackson'\n",
    "\n",
    "the_most_profitable_director = data.groupby('director').sum().sort_values('Profit', ascending=False).head(1)\n",
    "\n",
    "display(the_most_profitable_director)"
   ],
   "execution_count": 21,
   "outputs": [
    {
     "data": {
      "text/plain": "                   budget     revenue  runtime  vote_average  release_year  \\\ndirector                                                                     \nPeter Jackson  1288000000  6490593685     1355          58.1         16059   \n\n                   Profit  \ndirector                   \nPeter Jackson  5202593685  ",
      "text/html": "<div>\n<style scoped>\n    .dataframe tbody tr th:only-of-type {\n        vertical-align: middle;\n    }\n\n    .dataframe tbody tr th {\n        vertical-align: top;\n    }\n\n    .dataframe thead th {\n        text-align: right;\n    }\n</style>\n<table border=\"1\" class=\"dataframe\">\n  <thead>\n    <tr style=\"text-align: right;\">\n      <th></th>\n      <th>budget</th>\n      <th>revenue</th>\n      <th>runtime</th>\n      <th>vote_average</th>\n      <th>release_year</th>\n      <th>Profit</th>\n    </tr>\n    <tr>\n      <th>director</th>\n      <th></th>\n      <th></th>\n      <th></th>\n      <th></th>\n      <th></th>\n      <th></th>\n    </tr>\n  </thead>\n  <tbody>\n    <tr>\n      <th>Peter Jackson</th>\n      <td>1288000000</td>\n      <td>6490593685</td>\n      <td>1355</td>\n      <td>58.1</td>\n      <td>16059</td>\n      <td>5202593685</td>\n    </tr>\n  </tbody>\n</table>\n</div>"
     },
     "metadata": {},
     "output_type": "display_data"
    }
   ]
  },
  {
   "cell_type": "markdown",
   "metadata": {
    "id": "PsYC9FgRVp_a",
    "colab_type": "text"
   },
   "source": [
    "# 14. Какой режисер снял больше всего фильмов в стиле Action?"
   ]
  },
  {
   "cell_type": "code",
   "metadata": {
    "trusted": true,
    "id": "wd2M-wHeVp_b",
    "colab_type": "code",
    "colab": {}
   },
   "source": [
    "answers['14'] = 'Robert Rodriguez'\n",
    "directors = data[data.genres.str.contains('Action')].director\n",
    "\n",
    "result = []\n",
    "for director in directors:\n",
    "    if '|' in director:\n",
    "        several = director.split('|')\n",
    "        result.extend(several)\n",
    "    else:\n",
    "        result.append(director)\n",
    "\n",
    "from collections import Counter\n",
    "\n",
    "the_most_action_director = Counter(result).most_common(1)\n",
    "display(the_most_action_director)"
   ],
   "execution_count": 22,
   "outputs": [
    {
     "data": {
      "text/plain": "[('Robert Rodriguez', 9)]"
     },
     "metadata": {},
     "output_type": "display_data"
    }
   ]
  },
  {
   "cell_type": "markdown",
   "metadata": {
    "id": "PQ0KciD7Vp_f",
    "colab_type": "text"
   },
   "source": [
    "# 15. Фильмы с каким актером принесли самые высокие кассовые сборы в 2012 году? "
   ]
  },
  {
   "cell_type": "code",
   "metadata": {
    "trusted": true,
    "id": "aga62oeKVp_g",
    "colab_type": "code",
    "colab": {},
    "tags": []
   },
   "source": [
    "answers['15'] = 'Chris Hemsworth'\n",
    "\n",
    "films2012 = data[data.release_year == 2012]\n",
    "casts = films2012.cast\n",
    "\n",
    "actors = splitted(casts)\n",
    "\n",
    "profits = {}\n",
    "\n",
    "for actor in actors:\n",
    "    actor_mask = casts.str.contains(actor)\n",
    "    films_with_actor = films2012[actor_mask]\n",
    "    value = films_with_actor.Profit.sum()\n",
    "    profits[actor] = value\n",
    "\n",
    "print(sorted(profits.items(), key=lambda item: item[1])[-1])"
   ],
   "execution_count": 23,
   "outputs": [
    {
     "name": "stdout",
     "output_type": "stream",
     "text": [
      "('Chris Hemsworth', 1542450773)\n"
     ]
    }
   ]
  },
  {
   "cell_type": "markdown",
   "metadata": {
    "id": "mWHyyL7QVp_j",
    "colab_type": "text"
   },
   "source": [
    "# 16. Какой актер снялся в большем количестве высокобюджетных фильмов?"
   ]
  },
  {
   "cell_type": "code",
   "metadata": {
    "trusted": true,
    "id": "qQtmHKTFVp_k",
    "colab_type": "code",
    "colab": {},
    "tags": []
   },
   "source": [
    "answers['16'] = 'Matt Damon'\n",
    "\n",
    "high_budget_films = data[data.budget > data.budget.mean()] \n",
    "\n",
    "high_budget_films_actors = splitted(high_budget_films.cast)\n",
    "high_budget_actor = Counter(high_budget_films_actors).most_common(1)\n",
    "print(high_budget_actor)\n"
   ],
   "execution_count": 24,
   "outputs": [
    {
     "name": "stdout",
     "output_type": "stream",
     "text": [
      "[('Matt Damon', 18)]\n"
     ]
    }
   ]
  },
  {
   "cell_type": "markdown",
   "metadata": {
    "id": "NIh6AaW5Vp_n",
    "colab_type": "text"
   },
   "source": [
    "# 17. В фильмах какого жанра больше всего снимался Nicolas Cage? "
   ]
  },
  {
   "cell_type": "code",
   "metadata": {
    "trusted": true,
    "id": "H74SJDIBVp_n",
    "colab_type": "code",
    "colab": {}
   },
   "source": [
    "answers['17'] = 'Action'\n",
    "\n",
    "actor_mask = data.cast.str.contains('Nicolas Cage')\n",
    "cage_films = data[actor_mask]\n",
    "counted_genres = Counter(splitted(cage_films.genres))\n",
    "counted_genres.most_common(1)"
   ],
   "execution_count": 25,
   "outputs": [
    {
     "data": {
      "text/plain": "[('Action', 17)]"
     },
     "execution_count": 25,
     "metadata": {},
     "output_type": "execute_result"
    }
   ]
  },
  {
   "cell_type": "markdown",
   "metadata": {
    "id": "RqOmPRfWVp_q",
    "colab_type": "text"
   },
   "source": [
    "# 18. Самый убыточный фильм от Paramount Pictures"
   ]
  },
  {
   "cell_type": "code",
   "metadata": {
    "trusted": true,
    "id": "9E_B0Y96Vp_r",
    "colab_type": "code",
    "colab": {}
   },
   "source": [
    "answers['18'] = '925. K-19: The Widowmaker (tt0267626)'\n",
    "paramount_mask = data.production_companies.str.contains('Paramount Pictures')\n",
    "paramount_films = data[paramount_mask]\n",
    "paramount_films[paramount_films.Profit == paramount_films.Profit.min()]"
   ],
   "execution_count": 26,
   "outputs": [
    {
     "data": {
      "text/plain": "       imdb_id     budget   revenue        original_title  \\\n925  tt0267626  100000000  35168966  K-19: The Widowmaker   \n\n                                                  cast         director  \\\n925  Harrison Ford|Liam Neeson|Peter Sarsgaard|Joss...  Kathryn Bigelow   \n\n                      tagline  \\\n925  Fate has found its hero.   \n\n                                              overview  runtime  \\\n925  When Russia's first nuclear submarine malfunct...      138   \n\n                     genres  \\\n925  Thriller|Drama|History   \n\n                                  production_companies release_date  \\\n925  Paramount Pictures|Intermedia Films|National G...    7/19/2002   \n\n     vote_average  release_year    Profit  timestamp  \n925           6.0          2002 -64831034 2002-07-19  ",
      "text/html": "<div>\n<style scoped>\n    .dataframe tbody tr th:only-of-type {\n        vertical-align: middle;\n    }\n\n    .dataframe tbody tr th {\n        vertical-align: top;\n    }\n\n    .dataframe thead th {\n        text-align: right;\n    }\n</style>\n<table border=\"1\" class=\"dataframe\">\n  <thead>\n    <tr style=\"text-align: right;\">\n      <th></th>\n      <th>imdb_id</th>\n      <th>budget</th>\n      <th>revenue</th>\n      <th>original_title</th>\n      <th>cast</th>\n      <th>director</th>\n      <th>tagline</th>\n      <th>overview</th>\n      <th>runtime</th>\n      <th>genres</th>\n      <th>production_companies</th>\n      <th>release_date</th>\n      <th>vote_average</th>\n      <th>release_year</th>\n      <th>Profit</th>\n      <th>timestamp</th>\n    </tr>\n  </thead>\n  <tbody>\n    <tr>\n      <th>925</th>\n      <td>tt0267626</td>\n      <td>100000000</td>\n      <td>35168966</td>\n      <td>K-19: The Widowmaker</td>\n      <td>Harrison Ford|Liam Neeson|Peter Sarsgaard|Joss...</td>\n      <td>Kathryn Bigelow</td>\n      <td>Fate has found its hero.</td>\n      <td>When Russia's first nuclear submarine malfunct...</td>\n      <td>138</td>\n      <td>Thriller|Drama|History</td>\n      <td>Paramount Pictures|Intermedia Films|National G...</td>\n      <td>7/19/2002</td>\n      <td>6.0</td>\n      <td>2002</td>\n      <td>-64831034</td>\n      <td>2002-07-19</td>\n    </tr>\n  </tbody>\n</table>\n</div>"
     },
     "execution_count": 26,
     "metadata": {},
     "output_type": "execute_result"
    }
   ]
  },
  {
   "cell_type": "markdown",
   "metadata": {
    "id": "vS8Ur6ddVp_u",
    "colab_type": "text"
   },
   "source": [
    "# 19. Какой год стал самым успешным по суммарным кассовым сборам?"
   ]
  },
  {
   "cell_type": "code",
   "metadata": {
    "trusted": true,
    "id": "Dnbt4GdIVp_v",
    "colab_type": "code",
    "colab": {}
   },
   "source": [
    "answers['19'] = '2015'\n",
    "data.groupby('release_year').revenue.sum().sort_values().tail(1)"
   ],
   "execution_count": 27,
   "outputs": [
    {
     "data": {
      "text/plain": "release_year\n2015    25449202382\nName: revenue, dtype: int64"
     },
     "execution_count": 27,
     "metadata": {},
     "output_type": "execute_result"
    }
   ]
  },
  {
   "cell_type": "markdown",
   "metadata": {
    "id": "JAzJh4QAVp_z",
    "colab_type": "text"
   },
   "source": [
    "# 20. Какой самый прибыльный год для студии Warner Bros?"
   ]
  },
  {
   "cell_type": "code",
   "metadata": {
    "trusted": true,
    "id": "wgVu02DEVp_0",
    "colab_type": "code",
    "colab": {}
   },
   "source": [
    "answers['20'] = '2014'\n",
    "warner_mask = data.production_companies.str.contains('Warner Bros')\n",
    "data[warner_mask].groupby('release_year').Profit.sum().sort_values().tail(1)"
   ],
   "execution_count": 28,
   "outputs": [
    {
     "data": {
      "text/plain": "release_year\n2014    2295464519\nName: Profit, dtype: int64"
     },
     "execution_count": 28,
     "metadata": {},
     "output_type": "execute_result"
    }
   ]
  },
  {
   "cell_type": "markdown",
   "metadata": {
    "id": "8Im1S2HRVp_4",
    "colab_type": "text"
   },
   "source": [
    "# 21. В каком месяце за все годы суммарно вышло больше всего фильмов?"
   ]
  },
  {
   "cell_type": "code",
   "metadata": {
    "trusted": true,
    "id": "lev6TH7gVp_4",
    "colab_type": "code",
    "colab": {}
   },
   "source": [
    "answers['21'] = 'Сентябрь'\n",
    "dates = [date.split('/')[0] for date in data.release_date]\n",
    "top_month = Counter(dates).most_common(1)\n",
    "top_month"
   ],
   "execution_count": 29,
   "outputs": [
    {
     "data": {
      "text/plain": "[('9', 227)]"
     },
     "execution_count": 29,
     "metadata": {},
     "output_type": "execute_result"
    }
   ]
  },
  {
   "cell_type": "markdown",
   "metadata": {
    "id": "uAJsZ_NeVp_7",
    "colab_type": "text"
   },
   "source": [
    "# 22. Сколько суммарно вышло фильмов летом? (за июнь, июль, август)"
   ]
  },
  {
   "cell_type": "code",
   "metadata": {
    "trusted": true,
    "id": "Aa-hEREoVp_8",
    "colab_type": "code",
    "colab": {},
    "tags": []
   },
   "source": [
    "answers['22'] = 450\n",
    "all_months = [date.month_name() for date in pd.to_datetime(data['release_date'])]\n",
    "counted = Counter(all_months)\n",
    "sum(map(counted.get, ['June', 'July', 'August']))"
   ],
   "execution_count": 31,
   "outputs": [
    {
     "data": {
      "text/plain": "450"
     },
     "execution_count": 31,
     "metadata": {},
     "output_type": "execute_result"
    }
   ]
  },
  {
   "cell_type": "markdown",
   "metadata": {
    "id": "G94ppOY1VqAA",
    "colab_type": "text"
   },
   "source": [
    "# 23. Для какого режиссера зима – самое продуктивное время года? "
   ]
  },
  {
   "cell_type": "code",
   "metadata": {
    "trusted": true,
    "id": "RhNTsamuVqAB",
    "colab_type": "code",
    "colab": {}
   },
   "source": [
    "answers['23'] = 'Peter Jackson'\n",
    "winter_months = ['December', 'January', 'February']\n",
    "winter_mask = data.timestamp.map(lambda date: date.month_name() in winter_months)\n",
    "winter = data[winter_mask]\n",
    "directors = splitted(winter.director)\n",
    "most_productive = Counter(directors).most_common(1)\n",
    "most_productive"
   ],
   "execution_count": 32,
   "outputs": [
    {
     "data": {
      "text/plain": "[('Peter Jackson', 7)]"
     },
     "execution_count": 32,
     "metadata": {},
     "output_type": "execute_result"
    }
   ]
  },
  {
   "cell_type": "markdown",
   "metadata": {
    "id": "RBo0JVjVVqAF",
    "colab_type": "text"
   },
   "source": [
    "# 24. Какая студия дает самые длинные названия своим фильмам по количеству символов?"
   ]
  },
  {
   "cell_type": "code",
   "metadata": {
    "trusted": true,
    "id": "QRGS8L0iVqAG",
    "colab_type": "code",
    "colab": {}
   },
   "source": [
    "answers['24'] = 'Four By Two Productions'\n",
    "data['length'] = data.original_title.str.len()\n",
    "df2 = pd.DataFrame(data.production_companies.str.split('|').tolist()).stack()\n",
    "df2 = df2.value_counts(ascending=False)\n",
    "df2 = pd.DataFrame(df2)\n",
    "df2.columns = ['length']\n",
    "\n",
    "for idx in df2.index:\n",
    "    df2.length[idx] = data[data.production_companies.str.contains(idx)].length.mean()\n",
    "df2.sort_values(by='length', ascending=False)"
   ],
   "execution_count": 37,
   "outputs": [
    {
     "name": "stderr",
     "output_type": "stream",
     "text": [
      "/Users/fomotoshi/opt/anaconda3/lib/python3.7/site-packages/pandas/core/strings.py:1952: UserWarning: This pattern has match groups. To actually get the groups, use str.extract.\n",
      "  return func(self, *args, **kwargs)\n"
     ]
    },
    {
     "data": {
      "text/plain": "                                             length\nFour By Two Productions                        83.0\nJim Henson Company, The                        59.0\nDos Corazones                                  47.0\nPolsky Films                                   46.0\nMuseum Canada Productions                      46.0\n...                                             ...\nWorld Wrestling Entertainment (WWE)             NaN\nTelevisiÃ³ de Catalunya (TV3)                   NaN\nBaumgarten Management and Productions (BMP)     NaN\nRecorded Picture Company (RPC)                  NaN\nDisney Double Dare You (DDY)                    NaN\n\n[1771 rows x 1 columns]",
      "text/html": "<div>\n<style scoped>\n    .dataframe tbody tr th:only-of-type {\n        vertical-align: middle;\n    }\n\n    .dataframe tbody tr th {\n        vertical-align: top;\n    }\n\n    .dataframe thead th {\n        text-align: right;\n    }\n</style>\n<table border=\"1\" class=\"dataframe\">\n  <thead>\n    <tr style=\"text-align: right;\">\n      <th></th>\n      <th>length</th>\n    </tr>\n  </thead>\n  <tbody>\n    <tr>\n      <th>Four By Two Productions</th>\n      <td>83.0</td>\n    </tr>\n    <tr>\n      <th>Jim Henson Company, The</th>\n      <td>59.0</td>\n    </tr>\n    <tr>\n      <th>Dos Corazones</th>\n      <td>47.0</td>\n    </tr>\n    <tr>\n      <th>Polsky Films</th>\n      <td>46.0</td>\n    </tr>\n    <tr>\n      <th>Museum Canada Productions</th>\n      <td>46.0</td>\n    </tr>\n    <tr>\n      <th>...</th>\n      <td>...</td>\n    </tr>\n    <tr>\n      <th>World Wrestling Entertainment (WWE)</th>\n      <td>NaN</td>\n    </tr>\n    <tr>\n      <th>TelevisiÃ³ de Catalunya (TV3)</th>\n      <td>NaN</td>\n    </tr>\n    <tr>\n      <th>Baumgarten Management and Productions (BMP)</th>\n      <td>NaN</td>\n    </tr>\n    <tr>\n      <th>Recorded Picture Company (RPC)</th>\n      <td>NaN</td>\n    </tr>\n    <tr>\n      <th>Disney Double Dare You (DDY)</th>\n      <td>NaN</td>\n    </tr>\n  </tbody>\n</table>\n<p>1771 rows × 1 columns</p>\n</div>"
     },
     "execution_count": 37,
     "metadata": {},
     "output_type": "execute_result"
    }
   ]
  },
  {
   "cell_type": "markdown",
   "metadata": {
    "id": "9G0hbvR7VqAK",
    "colab_type": "text"
   },
   "source": [
    "# 25. Описание фильмов какой студии в среднем самые длинные по количеству слов?"
   ]
  },
  {
   "cell_type": "code",
   "metadata": {
    "trusted": true,
    "id": "Ge2GsLNxVqAK",
    "colab_type": "code",
    "colab": {}
   },
   "source": [
    "answers['25'] = ''\n"
   ],
   "execution_count": null,
   "outputs": []
  },
  {
   "cell_type": "markdown",
   "metadata": {
    "id": "FJ1AFt90VqAP",
    "colab_type": "text"
   },
   "source": [
    "# 26. Какие фильмы входят в 1 процент лучших по рейтингу? \n",
    "по vote_average"
   ]
  },
  {
   "cell_type": "code",
   "metadata": {
    "trusted": true,
    "id": "8qmJVq4CVqAQ",
    "colab_type": "code",
    "colab": {}
   },
   "source": [],
   "execution_count": null,
   "outputs": []
  },
  {
   "cell_type": "markdown",
   "metadata": {
    "id": "MdXsUXbCVqAV",
    "colab_type": "text"
   },
   "source": [
    "# 27. Какие актеры чаще всего снимаются в одном фильме вместе?\n"
   ]
  },
  {
   "cell_type": "markdown",
   "metadata": {
    "id": "4ymnxEVoVqAW",
    "colab_type": "text"
   },
   "source": [
    "ВАРИАНТ 2"
   ]
  },
  {
   "cell_type": "markdown",
   "metadata": {
    "id": "U0nONFnGVqAX",
    "colab_type": "text"
   },
   "source": [
    "# Submission"
   ]
  },
  {
   "cell_type": "code",
   "metadata": {
    "trusted": true,
    "id": "IfcaRO9-VqAX",
    "colab_type": "code",
    "colab": {},
    "outputId": "0f132912-32bb-4196-c98c-abfbc4ad5a5f"
   },
   "source": [
    "# в конце можно посмотреть свои ответы к каждому вопросу\n",
    "answers"
   ],
   "execution_count": null,
   "outputs": []
  },
  {
   "cell_type": "code",
   "metadata": {
    "trusted": true,
    "id": "SiRmHPl8VqAd",
    "colab_type": "code",
    "colab": {}
   },
   "source": [
    "# и убедиться что ни чего не пропустил)\n",
    "len(answers)"
   ],
   "execution_count": null,
   "outputs": []
  },
  {
   "cell_type": "code",
   "metadata": {
    "trusted": true,
    "id": "uCfuTkRbVqAg",
    "colab_type": "code",
    "colab": {}
   },
   "source": [
    ""
   ],
   "execution_count": null,
   "outputs": []
  },
  {
   "cell_type": "code",
   "metadata": {
    "trusted": true,
    "id": "Vwx3NrkSVqAl",
    "colab_type": "code",
    "colab": {}
   },
   "source": [
    ""
   ],
   "execution_count": null,
   "outputs": []
  }
 ],
 "metadata": {
  "kernelspec": {
   "display_name": "Python 3",
   "language": "python",
   "name": "python3"
  },
  "language_info": {
   "codemirror_mode": {
    "name": "ipython",
    "version": 3
   },
   "file_extension": ".py",
   "mimetype": "text/x-python",
   "name": "python",
   "nbconvert_exporter": "python",
   "pygments_lexer": "ipython3",
   "version": "3.7.6-final"
  },
  "colab": {
   "name": "Copy of [SF-DST] Movies IMBD v4.1 TEMPLATE.ipynb",
   "provenance": []
  }
 },
 "nbformat": 4,
 "nbformat_minor": 0
}